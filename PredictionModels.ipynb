{
  "cells": [
    {
      "cell_type": "code",
      "execution_count": null,
      "metadata": {
        "id": "e53beb03"
      },
      "outputs": [],
      "source": [
        "import pandas as pd\n",
        "import numpy as np"
      ],
      "id": "e53beb03"
    },
    {
      "cell_type": "code",
      "execution_count": null,
      "metadata": {
        "colab": {
          "base_uri": "https://localhost:8080/"
        },
        "id": "5hSsirXY3HsF",
        "outputId": "78375973-e5e6-490d-e7cf-9f0b30cd0e90"
      },
      "outputs": [
        {
          "output_type": "stream",
          "name": "stdout",
          "text": [
            "Mounted at /content/gdrive\n"
          ]
        }
      ],
      "source": [
        "from google.colab import drive \n",
        "drive.mount('/content/gdrive')"
      ],
      "id": "5hSsirXY3HsF"
    },
    {
      "cell_type": "code",
      "execution_count": null,
      "metadata": {
        "id": "Slh7tq6QYpps"
      },
      "outputs": [],
      "source": [
        "df = pd.read_csv('/content/gdrive/MyDrive/data/final_no_edit_needed.csv')\n",
        "df = df.drop(columns=['Unnamed: 0'])"
      ],
      "id": "Slh7tq6QYpps"
    },
    {
      "cell_type": "code",
      "execution_count": null,
      "metadata": {
        "id": "804d5e2c"
      },
      "outputs": [],
      "source": [
        "#outlıer elımınatıon\n",
        "df = df[(df['Engagement_Total']<1000)]\n",
        "df = df.groupby('source').filter(lambda x : len(x)>10)\n",
        "df = df.reset_index(drop=True)\n",
        "words = [\"#\"]\n",
        "df[\"check_hashtags\"] = df.text.apply(lambda x: sum([x.count(word) for word in words]))\n"
      ],
      "id": "804d5e2c"
    },
    {
      "cell_type": "code",
      "execution_count": null,
      "metadata": {
        "id": "ZEyVxXy6vau4"
      },
      "outputs": [],
      "source": [
        "!pip install textstat\n",
        "import textstat\n",
        "def readingscore(text):\n",
        "\n",
        "    score = textstat.flesch_reading_ease(text)\n",
        "    \n",
        "    return score\n",
        "\n",
        "df['flesch_reading'] = df['text_preprocessed'].apply(readingscore)\n",
        "\n",
        "#outlıer elımınatıon\n",
        "df = df[(df['flesch_reading']>-900)]\n",
        "df = df.reset_index(drop=True)"
      ],
      "id": "ZEyVxXy6vau4"
    },
    {
      "cell_type": "code",
      "execution_count": null,
      "metadata": {
        "id": "DjUETBsCH1D1"
      },
      "outputs": [],
      "source": [
        "import seaborn as sns\n",
        "import matplotlib.pyplot as plt\n",
        "plt.figure(figsize=(10,5))\n",
        "plt.xlim(-75,150)\n",
        "plt.xlabel('Flesch Reading Score')\n",
        "plt.ylabel('Density')\n",
        "sns.kdeplot(df['flesch_reading'],shade=True)\n",
        "plt.show()"
      ],
      "id": "DjUETBsCH1D1"
    },
    {
      "cell_type": "code",
      "execution_count": null,
      "metadata": {
        "id": "ggf_wsiZsTNr"
      },
      "outputs": [],
      "source": [
        "#pd.set_option('display.max_columns', None)"
      ],
      "id": "ggf_wsiZsTNr"
    },
    {
      "cell_type": "code",
      "execution_count": null,
      "metadata": {
        "id": "ceSFqf1Srj45"
      },
      "outputs": [],
      "source": [
        "#df.sort_values(by='flesch_reading', ascending=True)"
      ],
      "id": "ceSFqf1Srj45"
    },
    {
      "cell_type": "markdown",
      "metadata": {
        "id": "7828119f"
      },
      "source": [
        "# Data Import"
      ],
      "id": "7828119f"
    },
    {
      "cell_type": "code",
      "execution_count": null,
      "metadata": {
        "id": "91wDJ31R44zN"
      },
      "outputs": [],
      "source": [
        "# checking if there are any duplicates by id column\n",
        "duplicateRowsDF = df[df.duplicated(['id'])]\n",
        "duplicateRowsDF"
      ],
      "id": "91wDJ31R44zN"
    },
    {
      "cell_type": "markdown",
      "metadata": {
        "id": "c9c1ba8e"
      },
      "source": [
        "# Profanity Probability"
      ],
      "id": "c9c1ba8e"
    },
    {
      "cell_type": "code",
      "execution_count": null,
      "metadata": {
        "id": "ecec1c76"
      },
      "outputs": [],
      "source": [
        "!pip install alt-profanity-check\n",
        "from profanity_check import predict, predict_prob"
      ],
      "id": "ecec1c76"
    },
    {
      "cell_type": "code",
      "execution_count": null,
      "metadata": {
        "colab": {
          "base_uri": "https://localhost:8080/"
        },
        "id": "2c33aef6",
        "outputId": "b8dda495-0633-4330-b0fe-8d3a6cc05995"
      },
      "outputs": [
        {
          "name": "stderr",
          "output_type": "stream",
          "text": [
            "/usr/local/lib/python3.7/dist-packages/ipykernel_launcher.py:3: SettingWithCopyWarning: \n",
            "A value is trying to be set on a copy of a slice from a DataFrame\n",
            "\n",
            "See the caveats in the documentation: https://pandas.pydata.org/pandas-docs/stable/user_guide/indexing.html#returning-a-view-versus-a-copy\n",
            "  This is separate from the ipykernel package so we can avoid doing imports until\n",
            "/usr/local/lib/python3.7/dist-packages/pandas/core/indexing.py:1732: SettingWithCopyWarning: \n",
            "A value is trying to be set on a copy of a slice from a DataFrame\n",
            "\n",
            "See the caveats in the documentation: https://pandas.pydata.org/pandas-docs/stable/user_guide/indexing.html#returning-a-view-versus-a-copy\n",
            "  self._setitem_single_block(indexer, value, name)\n"
          ]
        }
      ],
      "source": [
        "df[\"profanity_probability\"] = np.nan\n",
        "for i in range(df.shape[0]):\n",
        "    df['profanity_probability'][i] = str(predict_prob([df['text_preprocessed'][i]]))"
      ],
      "id": "2c33aef6"
    },
    {
      "cell_type": "code",
      "execution_count": null,
      "metadata": {
        "id": "4546b03d"
      },
      "outputs": [],
      "source": [
        "df['profanity_probability'] = df['profanity_probability'].map(lambda x: x.lstrip('['))\n",
        "df['profanity_probability'] = df['profanity_probability'].map(lambda x: x.rstrip(']'))\n",
        "df['profanity_probability'] = df['profanity_probability'].astype(float)"
      ],
      "id": "4546b03d"
    },
    {
      "cell_type": "code",
      "execution_count": null,
      "metadata": {
        "id": "e6b0b00c"
      },
      "outputs": [],
      "source": [
        "import pandas as pd\n",
        "from IPython.display import display\n",
        "pd.options.display.max_columns = None\n",
        "display(df)"
      ],
      "id": "e6b0b00c"
    },
    {
      "cell_type": "markdown",
      "metadata": {
        "id": "8e868691"
      },
      "source": [
        "# Classifying Classes"
      ],
      "id": "8e868691"
    },
    {
      "cell_type": "code",
      "execution_count": null,
      "metadata": {
        "id": "28616a02"
      },
      "outputs": [],
      "source": [
        "df = df.loc[:, df.columns.isin([\"id\",\"author_id\",\n",
        "                           \"created_at\",\"text\",\"source\",\"public_metrics.like_count\",\n",
        "                           \"public_metrics.quote_count\",\"public_metrics.reply_count\",\"public_metrics.retweet_count\",\"possibly_sensitive\",\n",
        "                           \"author.id\",\"author.created_at\",\"author.public_metrics.followers_count\",\n",
        "                           \"author.public_metrics.listed_count\",\"author.public_metrics.tweet_count\",\n",
        "                           'time_diff_hours','Engagement_Total','text_preprocessed','avg_length_words',\n",
        "                            'emoji_count','text_preprocessed_nostopwords','created_at_hour','check_hashtags',\n",
        "                            'check_media','check_poll', 'day','day_name',\n",
        "                            'url_count','mention_count','text_preprocessed_emotion_scores','text_preprocessed_sentiment','flesch_reading','text_preprocessed_emotion_heading', 'profanity_probability'])]\n",
        "        "
      ],
      "id": "28616a02"
    },
    {
      "cell_type": "code",
      "execution_count": null,
      "metadata": {
        "id": "5edef827"
      },
      "outputs": [],
      "source": [
        "#Deciding on class ranges\n",
        "df[(df['Engagement_Total']>0)][['Engagement_Total']].describe()"
      ],
      "id": "5edef827"
    },
    {
      "cell_type": "code",
      "execution_count": null,
      "metadata": {
        "id": "3c46e8a5"
      },
      "outputs": [],
      "source": [
        "def engagement_class(x):\n",
        "    if (x == 0):\n",
        "        y = 'None'\n",
        "    if (x > 0) & (x < 2) :\n",
        "        y = 'Low'\n",
        "    if (x > 1) & (x < 9) :\n",
        "        y = 'Moderate'\n",
        "    if (x > 8) :\n",
        "        y = 'High'\n",
        "    return y"
      ],
      "id": "3c46e8a5"
    },
    {
      "cell_type": "code",
      "execution_count": null,
      "metadata": {
        "id": "fdd372c1"
      },
      "outputs": [],
      "source": [
        "df['Engagement_Total_Class'] = df['Engagement_Total'].apply(engagement_class)"
      ],
      "id": "fdd372c1"
    },
    {
      "cell_type": "code",
      "execution_count": null,
      "metadata": {
        "id": "63b5eed0"
      },
      "outputs": [],
      "source": [
        "# Plot frequency of users, sources, etc.\n",
        "import seaborn as sns\n",
        "import matplotlib.pyplot as plt\n",
        "def plot_frequency_charts(df, feature, title):\n",
        "    freq_df = pd.DataFrame()\n",
        "    freq_df[feature] = df[feature]\n",
        "    \n",
        "    f, ax = plt.subplots(1,1, figsize=(16,4))\n",
        "    total = float(len(df))\n",
        "    g = sns.countplot(df[feature], order = df[feature].value_counts().index[:20], palette='Set3')\n",
        "    g.set_title(\"Number and percentage of {}\".format(title))\n",
        "\n",
        "    for p in ax.patches:\n",
        "        height = p.get_height()\n",
        "        ax.text(p.get_x()+p.get_width()/2.,\n",
        "                height + 3,\n",
        "                '{:1.2f}%'.format(100*height/total),\n",
        "                ha=\"center\") \n",
        "\n",
        "    plt.title('Frequency of {} '.format(feature))\n",
        "    plt.ylabel('Frequency', fontsize=12)\n",
        "    plt.xlabel(title, fontsize=12)\n",
        "    plt.xticks(rotation=90)\n",
        "    plt.show()"
      ],
      "id": "63b5eed0"
    },
    {
      "cell_type": "code",
      "execution_count": null,
      "metadata": {
        "id": "339ae1b1"
      },
      "outputs": [],
      "source": [
        "#final distribution\n",
        "plot_frequency_charts(df, 'Engagement_Total_Class', 'Engagement_Total_Class')"
      ],
      "id": "339ae1b1"
    },
    {
      "cell_type": "markdown",
      "metadata": {
        "id": "9393eb70"
      },
      "source": [
        "# New Features"
      ],
      "id": "9393eb70"
    },
    {
      "cell_type": "code",
      "execution_count": null,
      "metadata": {
        "id": "c8f6b418"
      },
      "outputs": [],
      "source": [
        "from datetime import datetime, timedelta, timezone\n",
        "import pandas as pd\n",
        "import pytz\n",
        "from datetime import datetime, timedelta\n",
        "import pandas as pd\n",
        "\n",
        "now = datetime.now(tz=pytz.utc)\n",
        "df[\"account_duration\"] = ((now - pd.to_datetime(df[\"author.created_at\"])).dt.total_seconds())/3600\n",
        "df[\"account_duration\"] = df[\"account_duration\"]/24"
      ],
      "id": "c8f6b418"
    },
    {
      "cell_type": "code",
      "execution_count": null,
      "metadata": {
        "id": "815fda7d"
      },
      "outputs": [],
      "source": [
        "df['text_length'] = df['text'].apply(len)"
      ],
      "id": "815fda7d"
    },
    {
      "cell_type": "code",
      "execution_count": null,
      "metadata": {
        "id": "26jvQWq7zoU6"
      },
      "outputs": [],
      "source": [
        "df['source'] = df['source'].fillna('null')"
      ],
      "id": "26jvQWq7zoU6"
    },
    {
      "cell_type": "code",
      "execution_count": null,
      "metadata": {
        "colab": {
          "base_uri": "https://localhost:8080/",
          "height": 300
        },
        "id": "e53b03c0",
        "outputId": "cf2e337f-5b27-4c40-c8c0-e7defba16f9d"
      },
      "outputs": [
        {
          "data": {
            "text/html": [
              "\n",
              "  <div id=\"df-8a784921-7297-49a3-8fac-e9d368bb9fed\">\n",
              "    <div class=\"colab-df-container\">\n",
              "      <div>\n",
              "<style scoped>\n",
              "    .dataframe tbody tr th:only-of-type {\n",
              "        vertical-align: middle;\n",
              "    }\n",
              "\n",
              "    .dataframe tbody tr th {\n",
              "        vertical-align: top;\n",
              "    }\n",
              "\n",
              "    .dataframe thead th {\n",
              "        text-align: right;\n",
              "    }\n",
              "</style>\n",
              "<table border=\"1\" class=\"dataframe\">\n",
              "  <thead>\n",
              "    <tr style=\"text-align: right;\">\n",
              "      <th></th>\n",
              "      <th>public_metrics.like_count</th>\n",
              "      <th>public_metrics.reply_count</th>\n",
              "      <th>public_metrics.retweet_count</th>\n",
              "      <th>Engagement_Total</th>\n",
              "    </tr>\n",
              "  </thead>\n",
              "  <tbody>\n",
              "    <tr>\n",
              "      <th>count</th>\n",
              "      <td>91320.000000</td>\n",
              "      <td>91320.000000</td>\n",
              "      <td>91320.000000</td>\n",
              "      <td>91320.000000</td>\n",
              "    </tr>\n",
              "    <tr>\n",
              "      <th>mean</th>\n",
              "      <td>4.794930</td>\n",
              "      <td>0.553800</td>\n",
              "      <td>0.943638</td>\n",
              "      <td>6.292367</td>\n",
              "    </tr>\n",
              "    <tr>\n",
              "      <th>std</th>\n",
              "      <td>25.717698</td>\n",
              "      <td>3.758762</td>\n",
              "      <td>7.292934</td>\n",
              "      <td>32.409546</td>\n",
              "    </tr>\n",
              "    <tr>\n",
              "      <th>min</th>\n",
              "      <td>0.000000</td>\n",
              "      <td>0.000000</td>\n",
              "      <td>0.000000</td>\n",
              "      <td>0.000000</td>\n",
              "    </tr>\n",
              "    <tr>\n",
              "      <th>25%</th>\n",
              "      <td>0.000000</td>\n",
              "      <td>0.000000</td>\n",
              "      <td>0.000000</td>\n",
              "      <td>0.000000</td>\n",
              "    </tr>\n",
              "    <tr>\n",
              "      <th>50%</th>\n",
              "      <td>0.000000</td>\n",
              "      <td>0.000000</td>\n",
              "      <td>0.000000</td>\n",
              "      <td>1.000000</td>\n",
              "    </tr>\n",
              "    <tr>\n",
              "      <th>75%</th>\n",
              "      <td>2.000000</td>\n",
              "      <td>0.000000</td>\n",
              "      <td>0.000000</td>\n",
              "      <td>3.000000</td>\n",
              "    </tr>\n",
              "    <tr>\n",
              "      <th>max</th>\n",
              "      <td>920.000000</td>\n",
              "      <td>531.000000</td>\n",
              "      <td>488.000000</td>\n",
              "      <td>996.000000</td>\n",
              "    </tr>\n",
              "  </tbody>\n",
              "</table>\n",
              "</div>\n",
              "      <button class=\"colab-df-convert\" onclick=\"convertToInteractive('df-8a784921-7297-49a3-8fac-e9d368bb9fed')\"\n",
              "              title=\"Convert this dataframe to an interactive table.\"\n",
              "              style=\"display:none;\">\n",
              "        \n",
              "  <svg xmlns=\"http://www.w3.org/2000/svg\" height=\"24px\"viewBox=\"0 0 24 24\"\n",
              "       width=\"24px\">\n",
              "    <path d=\"M0 0h24v24H0V0z\" fill=\"none\"/>\n",
              "    <path d=\"M18.56 5.44l.94 2.06.94-2.06 2.06-.94-2.06-.94-.94-2.06-.94 2.06-2.06.94zm-11 1L8.5 8.5l.94-2.06 2.06-.94-2.06-.94L8.5 2.5l-.94 2.06-2.06.94zm10 10l.94 2.06.94-2.06 2.06-.94-2.06-.94-.94-2.06-.94 2.06-2.06.94z\"/><path d=\"M17.41 7.96l-1.37-1.37c-.4-.4-.92-.59-1.43-.59-.52 0-1.04.2-1.43.59L10.3 9.45l-7.72 7.72c-.78.78-.78 2.05 0 2.83L4 21.41c.39.39.9.59 1.41.59.51 0 1.02-.2 1.41-.59l7.78-7.78 2.81-2.81c.8-.78.8-2.07 0-2.86zM5.41 20L4 18.59l7.72-7.72 1.47 1.35L5.41 20z\"/>\n",
              "  </svg>\n",
              "      </button>\n",
              "      \n",
              "  <style>\n",
              "    .colab-df-container {\n",
              "      display:flex;\n",
              "      flex-wrap:wrap;\n",
              "      gap: 12px;\n",
              "    }\n",
              "\n",
              "    .colab-df-convert {\n",
              "      background-color: #E8F0FE;\n",
              "      border: none;\n",
              "      border-radius: 50%;\n",
              "      cursor: pointer;\n",
              "      display: none;\n",
              "      fill: #1967D2;\n",
              "      height: 32px;\n",
              "      padding: 0 0 0 0;\n",
              "      width: 32px;\n",
              "    }\n",
              "\n",
              "    .colab-df-convert:hover {\n",
              "      background-color: #E2EBFA;\n",
              "      box-shadow: 0px 1px 2px rgba(60, 64, 67, 0.3), 0px 1px 3px 1px rgba(60, 64, 67, 0.15);\n",
              "      fill: #174EA6;\n",
              "    }\n",
              "\n",
              "    [theme=dark] .colab-df-convert {\n",
              "      background-color: #3B4455;\n",
              "      fill: #D2E3FC;\n",
              "    }\n",
              "\n",
              "    [theme=dark] .colab-df-convert:hover {\n",
              "      background-color: #434B5C;\n",
              "      box-shadow: 0px 1px 3px 1px rgba(0, 0, 0, 0.15);\n",
              "      filter: drop-shadow(0px 1px 2px rgba(0, 0, 0, 0.3));\n",
              "      fill: #FFFFFF;\n",
              "    }\n",
              "  </style>\n",
              "\n",
              "      <script>\n",
              "        const buttonEl =\n",
              "          document.querySelector('#df-8a784921-7297-49a3-8fac-e9d368bb9fed button.colab-df-convert');\n",
              "        buttonEl.style.display =\n",
              "          google.colab.kernel.accessAllowed ? 'block' : 'none';\n",
              "\n",
              "        async function convertToInteractive(key) {\n",
              "          const element = document.querySelector('#df-8a784921-7297-49a3-8fac-e9d368bb9fed');\n",
              "          const dataTable =\n",
              "            await google.colab.kernel.invokeFunction('convertToInteractive',\n",
              "                                                     [key], {});\n",
              "          if (!dataTable) return;\n",
              "\n",
              "          const docLinkHtml = 'Like what you see? Visit the ' +\n",
              "            '<a target=\"_blank\" href=https://colab.research.google.com/notebooks/data_table.ipynb>data table notebook</a>'\n",
              "            + ' to learn more about interactive tables.';\n",
              "          element.innerHTML = '';\n",
              "          dataTable['output_type'] = 'display_data';\n",
              "          await google.colab.output.renderOutput(dataTable, element);\n",
              "          const docLink = document.createElement('div');\n",
              "          docLink.innerHTML = docLinkHtml;\n",
              "          element.appendChild(docLink);\n",
              "        }\n",
              "      </script>\n",
              "    </div>\n",
              "  </div>\n",
              "  "
            ],
            "text/plain": [
              "       public_metrics.like_count  public_metrics.reply_count  \\\n",
              "count               91320.000000                91320.000000   \n",
              "mean                    4.794930                    0.553800   \n",
              "std                    25.717698                    3.758762   \n",
              "min                     0.000000                    0.000000   \n",
              "25%                     0.000000                    0.000000   \n",
              "50%                     0.000000                    0.000000   \n",
              "75%                     2.000000                    0.000000   \n",
              "max                   920.000000                  531.000000   \n",
              "\n",
              "       public_metrics.retweet_count  Engagement_Total  \n",
              "count                  91320.000000      91320.000000  \n",
              "mean                       0.943638          6.292367  \n",
              "std                        7.292934         32.409546  \n",
              "min                        0.000000          0.000000  \n",
              "25%                        0.000000          0.000000  \n",
              "50%                        0.000000          1.000000  \n",
              "75%                        0.000000          3.000000  \n",
              "max                      488.000000        996.000000  "
            ]
          },
          "execution_count": 86,
          "metadata": {},
          "output_type": "execute_result"
        }
      ],
      "source": [
        "df[['public_metrics.like_count', 'public_metrics.reply_count', 'public_metrics.retweet_count', 'Engagement_Total']].describe()"
      ],
      "id": "e53b03c0"
    },
    {
      "cell_type": "markdown",
      "metadata": {
        "id": "18deca07"
      },
      "source": [
        "# Cross-Fold Target Encoding"
      ],
      "id": "18deca07"
    },
    {
      "cell_type": "code",
      "execution_count": null,
      "metadata": {
        "id": "ff7e8eb5"
      },
      "outputs": [],
      "source": [
        "from sklearn.base import BaseEstimator, TransformerMixin"
      ],
      "id": "ff7e8eb5"
    },
    {
      "cell_type": "code",
      "execution_count": null,
      "metadata": {
        "id": "e5a36158"
      },
      "outputs": [],
      "source": [
        "class TargetEncoder(BaseEstimator, TransformerMixin):\n",
        "    \"\"\"Target encoder.\n",
        "    \n",
        "    Replaces categorical column(s) with the mean target value for\n",
        "    each category.\n",
        "\n",
        "    \"\"\"\n",
        "    \n",
        "    def __init__(self, cols=None):\n",
        "        \"\"\"Target encoder\n",
        "        \n",
        "        Parameters\n",
        "        ----------\n",
        "        cols : list of str\n",
        "            Columns to target encode.  Default is to target \n",
        "            encode all categorical columns in the DataFrame.\n",
        "        \"\"\"\n",
        "        if isinstance(cols, str):\n",
        "            self.cols = [cols]\n",
        "        else:\n",
        "            self.cols = cols\n",
        "        \n",
        "        \n",
        "    def fit(self, X, y):\n",
        "        \"\"\"Fit target encoder to X and y\n",
        "        \n",
        "        Parameters\n",
        "        ----------\n",
        "        X : pandas DataFrame, shape [n_samples, n_columns]\n",
        "            DataFrame containing columns to encode\n",
        "        y : pandas Series, shape = [n_samples]\n",
        "            Target values.\n",
        "            \n",
        "        Returns\n",
        "        -------\n",
        "        self : encoder\n",
        "            Returns self.\n",
        "        \"\"\"\n",
        "        \n",
        "        # Encode all categorical cols by default\n",
        "        if self.cols is None:\n",
        "            self.cols = [col for col in X \n",
        "                         if str(X[col].dtype)=='object']\n",
        "\n",
        "        # Check columns are in X\n",
        "        for col in self.cols:\n",
        "            if col not in X:\n",
        "                raise ValueError('Column \\''+col+'\\' not in X')\n",
        "\n",
        "        # Encode each element of each column\n",
        "        self.maps = dict() #dict to store map for each column\n",
        "        for col in self.cols:\n",
        "            tmap = dict()\n",
        "            uniques = X[col].unique()\n",
        "            for unique in uniques:\n",
        "                tmap[unique] = y[X[col]==unique].mean()\n",
        "            self.maps[col] = tmap\n",
        "            \n",
        "        return self\n",
        "\n",
        "        \n",
        "    def transform(self, X, y=None):\n",
        "        \"\"\"Perform the target encoding transformation.\n",
        "        \n",
        "        Parameters\n",
        "        ----------\n",
        "        X : pandas DataFrame, shape [n_samples, n_columns]\n",
        "            DataFrame containing columns to encode\n",
        "            \n",
        "        Returns\n",
        "        -------\n",
        "        pandas DataFrame\n",
        "            Input DataFrame with transformed columns\n",
        "        \"\"\"\n",
        "        Xo = X.copy()\n",
        "        for col, tmap in self.maps.items():\n",
        "            vals = np.full(X.shape[0], np.nan)\n",
        "            for val, mean_target in tmap.items():\n",
        "                vals[X[col]==val] = mean_target\n",
        "            Xo[col] = vals\n",
        "        return Xo\n",
        "            \n",
        "            \n",
        "    def fit_transform(self, X, y=None):\n",
        "        \"\"\"Fit and transform the data via target encoding.\n",
        "        \n",
        "        Parameters\n",
        "        ----------\n",
        "        X : pandas DataFrame, shape [n_samples, n_columns]\n",
        "            DataFrame containing columns to encode\n",
        "        y : pandas Series, shape = [n_samples]\n",
        "            Target values (required!).\n",
        "\n",
        "        Returns\n",
        "        -------\n",
        "        pandas DataFrame\n",
        "            Input DataFrame with transformed columns\n",
        "        \"\"\"\n",
        "        return self.fit(X, y).transform(X, y)"
      ],
      "id": "e5a36158"
    },
    {
      "cell_type": "code",
      "execution_count": null,
      "metadata": {
        "id": "a1a5818d"
      },
      "outputs": [],
      "source": [
        "class TargetEncoderCV(TargetEncoder):\n",
        "    \"\"\"Cross-fold target encoder.\n",
        "    \"\"\"\n",
        "    \n",
        "    def __init__(self, n_splits=11, shuffle=True, cols=None):\n",
        "        \"\"\"Cross-fold target encoding for categorical features.\n",
        "        \n",
        "        Parameters\n",
        "        ----------\n",
        "        n_splits : int\n",
        "            Number of cross-fold splits. Default = 3.\n",
        "        shuffle : bool\n",
        "            Whether to shuffle the data when splitting into folds.\n",
        "        cols : list of str\n",
        "            Columns to target encode.\n",
        "        \"\"\"\n",
        "        self.n_splits = n_splits\n",
        "        self.shuffle = shuffle\n",
        "        self.cols = cols\n",
        "        \n",
        "\n",
        "    def fit(self, X, y):\n",
        "        \"\"\"Fit cross-fold target encoder to X and y\n",
        "        \n",
        "        Parameters\n",
        "        ----------\n",
        "        X : pandas DataFrame, shape [n_samples, n_columns]\n",
        "            DataFrame containing columns to encode\n",
        "        y : pandas Series, shape = [n_samples]\n",
        "            Target values.\n",
        "            \n",
        "        Returns\n",
        "        -------\n",
        "        self : encoder\n",
        "            Returns self.\n",
        "        \"\"\"\n",
        "        self._target_encoder = TargetEncoder(cols=self.cols)\n",
        "        self._target_encoder.fit(X, y)\n",
        "        return self\n",
        "\n",
        "    \n",
        "    def transform(self, X, y=None):\n",
        "        \"\"\"Perform the target encoding transformation.\n",
        "\n",
        "        Uses cross-fold target encoding for the training fold,\n",
        "        and uses normal target encoding for the test fold.\n",
        "\n",
        "        Parameters\n",
        "        ----------\n",
        "        X : pandas DataFrame, shape [n_samples, n_columns]\n",
        "            DataFrame containing columns to encode\n",
        "\n",
        "        Returns\n",
        "        -------\n",
        "        pandas DataFrame\n",
        "            Input DataFrame with transformed columns\n",
        "        \"\"\"\n",
        "\n",
        "        # Use target encoding from fit() if this is test data\n",
        "        if y is None:\n",
        "            return self._target_encoder.transform(X)\n",
        "\n",
        "        # Compute means for each fold\n",
        "        self._train_ix = []\n",
        "        self._test_ix = []\n",
        "        self._fit_tes = []\n",
        "        kf = KFold(n_splits=self.n_splits, shuffle=self.shuffle)\n",
        "        for train_ix, test_ix in kf.split(X):\n",
        "            self._train_ix.append(train_ix)\n",
        "            self._test_ix.append(test_ix)\n",
        "            te = TargetEncoder(cols=self.cols)\n",
        "            if isinstance(X, pd.DataFrame):\n",
        "                self._fit_tes.append(te.fit(X.iloc[train_ix,:],\n",
        "                                            y.iloc[train_ix]))\n",
        "            elif isinstance(X, np.ndarray):\n",
        "                self._fit_tes.append(te.fit(X[train_ix,:],\n",
        "                                            y[train_ix]))\n",
        "            else:\n",
        "                raise TypeError('X must be DataFrame or ndarray')\n",
        "\n",
        "        # Apply means across folds\n",
        "        Xo = X.copy()\n",
        "        for ix in range(len(self._test_ix)):\n",
        "            test_ix = self._test_ix[ix]\n",
        "            if isinstance(X, pd.DataFrame):\n",
        "                Xo.iloc[test_ix,:] = \\\n",
        "                    self._fit_tes[ix].transform(X.iloc[test_ix,:])\n",
        "            elif isinstance(X, np.ndarray):\n",
        "                Xo[test_ix,:] = \\\n",
        "                    self._fit_tes[ix].transform(X[test_ix,:])\n",
        "            else:\n",
        "                raise TypeError('X must be DataFrame or ndarray')\n",
        "        return Xo\n",
        "\n",
        "            \n",
        "    def fit_transform(self, X, y=None):\n",
        "        \"\"\"Fit and transform the data via target encoding.\n",
        "        \n",
        "        Parameters\n",
        "        ----------\n",
        "        X : pandas DataFrame, shape [n_samples, n_columns]\n",
        "            DataFrame containing columns to encode\n",
        "        y : pandas Series, shape = [n_samples]\n",
        "            Target values (required!).\n",
        "\n",
        "        Returns\n",
        "        -------\n",
        "        pandas DataFrame\n",
        "            Input DataFrame with transformed columns\n",
        "        \"\"\"\n",
        "        return self.fit(X, y).transform(X, y)"
      ],
      "id": "a1a5818d"
    },
    {
      "cell_type": "code",
      "execution_count": null,
      "metadata": {
        "id": "P_0H4sQUrsNs"
      },
      "outputs": [],
      "source": [
        "from sklearn import preprocessing\n",
        "from sklearn.preprocessing import LabelEncoder\n",
        "le = preprocessing.LabelEncoder()"
      ],
      "id": "P_0H4sQUrsNs"
    },
    {
      "cell_type": "code",
      "execution_count": null,
      "metadata": {
        "id": "a52d2b69"
      },
      "outputs": [],
      "source": [
        "from sklearn.model_selection import train_test_split\n",
        "from sklearn.metrics import mean_squared_error\n",
        "from sklearn.model_selection import KFold\n",
        "from sklearn.model_selection import cross_val_score"
      ],
      "id": "a52d2b69"
    },
    {
      "cell_type": "code",
      "execution_count": null,
      "metadata": {
        "id": "22baf51e"
      },
      "outputs": [],
      "source": [
        "from scipy import stats\n",
        "from scipy.stats import norm, skew #for some statistics"
      ],
      "id": "22baf51e"
    },
    {
      "cell_type": "code",
      "execution_count": null,
      "metadata": {
        "id": "4e88d70b"
      },
      "outputs": [],
      "source": [
        "te = TargetEncoderCV()\n",
        "le = LabelEncoder()"
      ],
      "id": "4e88d70b"
    },
    {
      "cell_type": "code",
      "execution_count": null,
      "metadata": {
        "id": "cb88db28"
      },
      "outputs": [],
      "source": [
        "df_new = df[[\n",
        "        #'possibly_sensitive',\n",
        "        #'time_diff_hours', 'check_poll',\n",
        "         'flesch_reading',\n",
        "         'mention_count','url_count', \n",
        "        # 'check_media', \n",
        "        'check_hashtags',\n",
        "         'avg_length_words',\n",
        "        'emoji_count', 'text_length', \n",
        "        'author.public_metrics.listed_count',\n",
        "        'author.public_metrics.followers_count', 'author.public_metrics.tweet_count', \n",
        "        'profanity_probability', \n",
        "        'account_duration'\n",
        "       ]]"
      ],
      "id": "cb88db28"
    },
    {
      "cell_type": "code",
      "execution_count": null,
      "metadata": {
        "id": "ba61d41f"
      },
      "outputs": [],
      "source": [
        "df_new2 = df[[ 'day_name', \n",
        "              'source', \n",
        "        'text_preprocessed_sentiment', 'text_preprocessed_emotion_heading',\n",
        "        'possibly_sensitive',\n",
        "        'check_media'\n",
        "        #, 'check_hashtags'\n",
        "        ]]"
      ],
      "id": "ba61d41f"
    },
    {
      "cell_type": "code",
      "execution_count": null,
      "metadata": {
        "id": "6984727e"
      },
      "outputs": [],
      "source": [
        "df_new2 = te.fit_transform(df_new2, df['Engagement_Total']).astype(float)"
      ],
      "id": "6984727e"
    },
    {
      "cell_type": "code",
      "execution_count": null,
      "metadata": {
        "id": "967da6e4"
      },
      "outputs": [],
      "source": [
        "df_new = pd.merge(df_new, df_new2, left_index=True, right_index=True)"
      ],
      "id": "967da6e4"
    },
    {
      "cell_type": "code",
      "execution_count": null,
      "metadata": {
        "id": "caa9e670"
      },
      "outputs": [],
      "source": [
        "#df_new[\"possibly_sensitive\"] = df_new[\"possibly_sensitive\"].astype(int)"
      ],
      "id": "caa9e670"
    },
    {
      "cell_type": "code",
      "execution_count": null,
      "metadata": {
        "colab": {
          "base_uri": "https://localhost:8080/",
          "height": 417
        },
        "id": "6av-Gze1h3xR",
        "outputId": "db004236-0440-4a29-ccdb-97b22fab9ae4"
      },
      "outputs": [
        {
          "name": "stdout",
          "output_type": "stream",
          "text": [
            "\n",
            "Skew in numerical features: \n",
            "\n"
          ]
        },
        {
          "data": {
            "text/html": [
              "\n",
              "  <div id=\"df-22b69873-23ef-42a8-b97a-89f152bdec1e\">\n",
              "    <div class=\"colab-df-container\">\n",
              "      <div>\n",
              "<style scoped>\n",
              "    .dataframe tbody tr th:only-of-type {\n",
              "        vertical-align: middle;\n",
              "    }\n",
              "\n",
              "    .dataframe tbody tr th {\n",
              "        vertical-align: top;\n",
              "    }\n",
              "\n",
              "    .dataframe thead th {\n",
              "        text-align: right;\n",
              "    }\n",
              "</style>\n",
              "<table border=\"1\" class=\"dataframe\">\n",
              "  <thead>\n",
              "    <tr style=\"text-align: right;\">\n",
              "      <th></th>\n",
              "      <th>Skew</th>\n",
              "    </tr>\n",
              "  </thead>\n",
              "  <tbody>\n",
              "    <tr>\n",
              "      <th>author.public_metrics.tweet_count</th>\n",
              "      <td>21.628692</td>\n",
              "    </tr>\n",
              "    <tr>\n",
              "      <th>author.public_metrics.listed_count</th>\n",
              "      <td>21.562640</td>\n",
              "    </tr>\n",
              "    <tr>\n",
              "      <th>emoji_count</th>\n",
              "      <td>12.180211</td>\n",
              "    </tr>\n",
              "    <tr>\n",
              "      <th>mention_count</th>\n",
              "      <td>7.937806</td>\n",
              "    </tr>\n",
              "    <tr>\n",
              "      <th>possibly_sensitive</th>\n",
              "      <td>7.608901</td>\n",
              "    </tr>\n",
              "    <tr>\n",
              "      <th>check_hashtags</th>\n",
              "      <td>5.110646</td>\n",
              "    </tr>\n",
              "    <tr>\n",
              "      <th>author.public_metrics.followers_count</th>\n",
              "      <td>3.130796</td>\n",
              "    </tr>\n",
              "    <tr>\n",
              "      <th>profanity_probability</th>\n",
              "      <td>2.783748</td>\n",
              "    </tr>\n",
              "    <tr>\n",
              "      <th>check_media</th>\n",
              "      <td>1.196436</td>\n",
              "    </tr>\n",
              "    <tr>\n",
              "      <th>url_count</th>\n",
              "      <td>1.180037</td>\n",
              "    </tr>\n",
              "  </tbody>\n",
              "</table>\n",
              "</div>\n",
              "      <button class=\"colab-df-convert\" onclick=\"convertToInteractive('df-22b69873-23ef-42a8-b97a-89f152bdec1e')\"\n",
              "              title=\"Convert this dataframe to an interactive table.\"\n",
              "              style=\"display:none;\">\n",
              "        \n",
              "  <svg xmlns=\"http://www.w3.org/2000/svg\" height=\"24px\"viewBox=\"0 0 24 24\"\n",
              "       width=\"24px\">\n",
              "    <path d=\"M0 0h24v24H0V0z\" fill=\"none\"/>\n",
              "    <path d=\"M18.56 5.44l.94 2.06.94-2.06 2.06-.94-2.06-.94-.94-2.06-.94 2.06-2.06.94zm-11 1L8.5 8.5l.94-2.06 2.06-.94-2.06-.94L8.5 2.5l-.94 2.06-2.06.94zm10 10l.94 2.06.94-2.06 2.06-.94-2.06-.94-.94-2.06-.94 2.06-2.06.94z\"/><path d=\"M17.41 7.96l-1.37-1.37c-.4-.4-.92-.59-1.43-.59-.52 0-1.04.2-1.43.59L10.3 9.45l-7.72 7.72c-.78.78-.78 2.05 0 2.83L4 21.41c.39.39.9.59 1.41.59.51 0 1.02-.2 1.41-.59l7.78-7.78 2.81-2.81c.8-.78.8-2.07 0-2.86zM5.41 20L4 18.59l7.72-7.72 1.47 1.35L5.41 20z\"/>\n",
              "  </svg>\n",
              "      </button>\n",
              "      \n",
              "  <style>\n",
              "    .colab-df-container {\n",
              "      display:flex;\n",
              "      flex-wrap:wrap;\n",
              "      gap: 12px;\n",
              "    }\n",
              "\n",
              "    .colab-df-convert {\n",
              "      background-color: #E8F0FE;\n",
              "      border: none;\n",
              "      border-radius: 50%;\n",
              "      cursor: pointer;\n",
              "      display: none;\n",
              "      fill: #1967D2;\n",
              "      height: 32px;\n",
              "      padding: 0 0 0 0;\n",
              "      width: 32px;\n",
              "    }\n",
              "\n",
              "    .colab-df-convert:hover {\n",
              "      background-color: #E2EBFA;\n",
              "      box-shadow: 0px 1px 2px rgba(60, 64, 67, 0.3), 0px 1px 3px 1px rgba(60, 64, 67, 0.15);\n",
              "      fill: #174EA6;\n",
              "    }\n",
              "\n",
              "    [theme=dark] .colab-df-convert {\n",
              "      background-color: #3B4455;\n",
              "      fill: #D2E3FC;\n",
              "    }\n",
              "\n",
              "    [theme=dark] .colab-df-convert:hover {\n",
              "      background-color: #434B5C;\n",
              "      box-shadow: 0px 1px 3px 1px rgba(0, 0, 0, 0.15);\n",
              "      filter: drop-shadow(0px 1px 2px rgba(0, 0, 0, 0.3));\n",
              "      fill: #FFFFFF;\n",
              "    }\n",
              "  </style>\n",
              "\n",
              "      <script>\n",
              "        const buttonEl =\n",
              "          document.querySelector('#df-22b69873-23ef-42a8-b97a-89f152bdec1e button.colab-df-convert');\n",
              "        buttonEl.style.display =\n",
              "          google.colab.kernel.accessAllowed ? 'block' : 'none';\n",
              "\n",
              "        async function convertToInteractive(key) {\n",
              "          const element = document.querySelector('#df-22b69873-23ef-42a8-b97a-89f152bdec1e');\n",
              "          const dataTable =\n",
              "            await google.colab.kernel.invokeFunction('convertToInteractive',\n",
              "                                                     [key], {});\n",
              "          if (!dataTable) return;\n",
              "\n",
              "          const docLinkHtml = 'Like what you see? Visit the ' +\n",
              "            '<a target=\"_blank\" href=https://colab.research.google.com/notebooks/data_table.ipynb>data table notebook</a>'\n",
              "            + ' to learn more about interactive tables.';\n",
              "          element.innerHTML = '';\n",
              "          dataTable['output_type'] = 'display_data';\n",
              "          await google.colab.output.renderOutput(dataTable, element);\n",
              "          const docLink = document.createElement('div');\n",
              "          docLink.innerHTML = docLinkHtml;\n",
              "          element.appendChild(docLink);\n",
              "        }\n",
              "      </script>\n",
              "    </div>\n",
              "  </div>\n",
              "  "
            ],
            "text/plain": [
              "                                            Skew\n",
              "author.public_metrics.tweet_count      21.628692\n",
              "author.public_metrics.listed_count     21.562640\n",
              "emoji_count                            12.180211\n",
              "mention_count                           7.937806\n",
              "possibly_sensitive                      7.608901\n",
              "check_hashtags                          5.110646\n",
              "author.public_metrics.followers_count   3.130796\n",
              "profanity_probability                   2.783748\n",
              "check_media                             1.196436\n",
              "url_count                               1.180037"
            ]
          },
          "execution_count": 360,
          "metadata": {},
          "output_type": "execute_result"
        }
      ],
      "source": [
        "# Check the skew of all numerical features\n",
        "numeric_feats = df_new.dtypes[df_new.dtypes != \"object\"].index\n",
        "skewed_feats = df_new[numeric_feats].apply(lambda x: skew(x.dropna())).sort_values(ascending=False)\n",
        "print(\"\\nSkew in numerical features: \\n\")\n",
        "skewness = pd.DataFrame({'Skew' :skewed_feats})\n",
        "skewness.head(10)"
      ],
      "id": "6av-Gze1h3xR"
    },
    {
      "cell_type": "code",
      "execution_count": null,
      "metadata": {
        "colab": {
          "base_uri": "https://localhost:8080/"
        },
        "id": "vohqjtH0lyh_",
        "outputId": "5af4608a-2fde-4a91-82cc-4a7597553e9d"
      },
      "outputs": [
        {
          "name": "stdout",
          "output_type": "stream",
          "text": [
            "[  1.25191409  -9.14084521  -1.61751693  -3.74675914   0.57168592\n",
            "  -4.22485786   0.18849225  -0.46803262   0.11108877   0.10447331\n",
            "  -8.55360934   0.26495621   9.62986294   1.72365992  -4.58437679\n",
            "  -0.99644155 -87.82934939  -5.38741426]\n"
          ]
        }
      ],
      "source": [
        "import numpy as np\n",
        "from sklearn.preprocessing import PowerTransformer\n",
        "pt = PowerTransformer(method='yeo-johnson')\n",
        "pt.fit(df_new)\n",
        "lambdas = pd.DataFrame({'cols':df_new.columns,\"box-cox-lambdas\":pt.lambdas_})\n",
        "print(pt.lambdas_)"
      ],
      "id": "vohqjtH0lyh_"
    },
    {
      "cell_type": "code",
      "execution_count": null,
      "metadata": {
        "id": "9grll5nogFfX"
      },
      "outputs": [],
      "source": [
        " for col in df_new.columns:\n",
        "        t = pt.fit_transform(np.array(df_new[col]).reshape(-1,1))\n",
        "        df_new[col] = t.reshape(-1)"
      ],
      "id": "9grll5nogFfX"
    },
    {
      "cell_type": "code",
      "execution_count": null,
      "metadata": {
        "colab": {
          "base_uri": "https://localhost:8080/"
        },
        "id": "WDVvX7RYl4-O",
        "outputId": "ca985053-11f9-460d-c990-4c111ab7517f"
      },
      "outputs": [
        {
          "name": "stdout",
          "output_type": "stream",
          "text": [
            "There are 18 skewed numerical features to Box Cox transform\n"
          ]
        }
      ],
      "source": [
        "# from scipy.special import boxcox1p\n",
        "# skewness = skewness[abs(skewness) > 0.75]\n",
        "# print(\"There are {} skewed numerical features to Box Cox transform\".format(skewness.shape[0]))\n",
        "\n",
        "# from scipy.special import boxcox1p\n",
        "# skewed_features = skewness.index\n",
        "# for feat in skewed_features:    \n",
        "#     df_new[feat] = boxcox1p(df_new[feat], lambdas.loc[lambdas['cols'] == feat, 'box-cox-lambdas'].iloc[0])\n"
      ],
      "id": "WDVvX7RYl4-O"
    },
    {
      "cell_type": "code",
      "execution_count": null,
      "metadata": {
        "colab": {
          "base_uri": "https://localhost:8080/",
          "height": 417
        },
        "id": "WE5__Xrml6xm",
        "outputId": "7e0a9b88-7094-4940-f220-69f48a6a5456"
      },
      "outputs": [
        {
          "name": "stdout",
          "output_type": "stream",
          "text": [
            "\n",
            "Skew in numerical features: \n",
            "\n"
          ]
        },
        {
          "data": {
            "text/html": [
              "\n",
              "  <div id=\"df-25b8eac1-1c60-4c7e-8df3-6d818ae9e8bc\">\n",
              "    <div class=\"colab-df-container\">\n",
              "      <div>\n",
              "<style scoped>\n",
              "    .dataframe tbody tr th:only-of-type {\n",
              "        vertical-align: middle;\n",
              "    }\n",
              "\n",
              "    .dataframe tbody tr th {\n",
              "        vertical-align: top;\n",
              "    }\n",
              "\n",
              "    .dataframe thead th {\n",
              "        text-align: right;\n",
              "    }\n",
              "</style>\n",
              "<table border=\"1\" class=\"dataframe\">\n",
              "  <thead>\n",
              "    <tr style=\"text-align: right;\">\n",
              "      <th></th>\n",
              "      <th>Skew</th>\n",
              "    </tr>\n",
              "  </thead>\n",
              "  <tbody>\n",
              "    <tr>\n",
              "      <th>possibly_sensitive</th>\n",
              "      <td>7.608901</td>\n",
              "    </tr>\n",
              "    <tr>\n",
              "      <th>mention_count</th>\n",
              "      <td>2.355788</td>\n",
              "    </tr>\n",
              "    <tr>\n",
              "      <th>emoji_count</th>\n",
              "      <td>1.446441</td>\n",
              "    </tr>\n",
              "    <tr>\n",
              "      <th>check_media</th>\n",
              "      <td>1.196436</td>\n",
              "    </tr>\n",
              "    <tr>\n",
              "      <th>profanity_probability</th>\n",
              "      <td>0.826361</td>\n",
              "    </tr>\n",
              "    <tr>\n",
              "      <th>url_count</th>\n",
              "      <td>0.397400</td>\n",
              "    </tr>\n",
              "    <tr>\n",
              "      <th>author.public_metrics.listed_count</th>\n",
              "      <td>0.317388</td>\n",
              "    </tr>\n",
              "    <tr>\n",
              "      <th>text_preprocessed_sentiment</th>\n",
              "      <td>0.300435</td>\n",
              "    </tr>\n",
              "    <tr>\n",
              "      <th>text_preprocessed_emotion_heading</th>\n",
              "      <td>0.109830</td>\n",
              "    </tr>\n",
              "    <tr>\n",
              "      <th>avg_length_words</th>\n",
              "      <td>0.027040</td>\n",
              "    </tr>\n",
              "  </tbody>\n",
              "</table>\n",
              "</div>\n",
              "      <button class=\"colab-df-convert\" onclick=\"convertToInteractive('df-25b8eac1-1c60-4c7e-8df3-6d818ae9e8bc')\"\n",
              "              title=\"Convert this dataframe to an interactive table.\"\n",
              "              style=\"display:none;\">\n",
              "        \n",
              "  <svg xmlns=\"http://www.w3.org/2000/svg\" height=\"24px\"viewBox=\"0 0 24 24\"\n",
              "       width=\"24px\">\n",
              "    <path d=\"M0 0h24v24H0V0z\" fill=\"none\"/>\n",
              "    <path d=\"M18.56 5.44l.94 2.06.94-2.06 2.06-.94-2.06-.94-.94-2.06-.94 2.06-2.06.94zm-11 1L8.5 8.5l.94-2.06 2.06-.94-2.06-.94L8.5 2.5l-.94 2.06-2.06.94zm10 10l.94 2.06.94-2.06 2.06-.94-2.06-.94-.94-2.06-.94 2.06-2.06.94z\"/><path d=\"M17.41 7.96l-1.37-1.37c-.4-.4-.92-.59-1.43-.59-.52 0-1.04.2-1.43.59L10.3 9.45l-7.72 7.72c-.78.78-.78 2.05 0 2.83L4 21.41c.39.39.9.59 1.41.59.51 0 1.02-.2 1.41-.59l7.78-7.78 2.81-2.81c.8-.78.8-2.07 0-2.86zM5.41 20L4 18.59l7.72-7.72 1.47 1.35L5.41 20z\"/>\n",
              "  </svg>\n",
              "      </button>\n",
              "      \n",
              "  <style>\n",
              "    .colab-df-container {\n",
              "      display:flex;\n",
              "      flex-wrap:wrap;\n",
              "      gap: 12px;\n",
              "    }\n",
              "\n",
              "    .colab-df-convert {\n",
              "      background-color: #E8F0FE;\n",
              "      border: none;\n",
              "      border-radius: 50%;\n",
              "      cursor: pointer;\n",
              "      display: none;\n",
              "      fill: #1967D2;\n",
              "      height: 32px;\n",
              "      padding: 0 0 0 0;\n",
              "      width: 32px;\n",
              "    }\n",
              "\n",
              "    .colab-df-convert:hover {\n",
              "      background-color: #E2EBFA;\n",
              "      box-shadow: 0px 1px 2px rgba(60, 64, 67, 0.3), 0px 1px 3px 1px rgba(60, 64, 67, 0.15);\n",
              "      fill: #174EA6;\n",
              "    }\n",
              "\n",
              "    [theme=dark] .colab-df-convert {\n",
              "      background-color: #3B4455;\n",
              "      fill: #D2E3FC;\n",
              "    }\n",
              "\n",
              "    [theme=dark] .colab-df-convert:hover {\n",
              "      background-color: #434B5C;\n",
              "      box-shadow: 0px 1px 3px 1px rgba(0, 0, 0, 0.15);\n",
              "      filter: drop-shadow(0px 1px 2px rgba(0, 0, 0, 0.3));\n",
              "      fill: #FFFFFF;\n",
              "    }\n",
              "  </style>\n",
              "\n",
              "      <script>\n",
              "        const buttonEl =\n",
              "          document.querySelector('#df-25b8eac1-1c60-4c7e-8df3-6d818ae9e8bc button.colab-df-convert');\n",
              "        buttonEl.style.display =\n",
              "          google.colab.kernel.accessAllowed ? 'block' : 'none';\n",
              "\n",
              "        async function convertToInteractive(key) {\n",
              "          const element = document.querySelector('#df-25b8eac1-1c60-4c7e-8df3-6d818ae9e8bc');\n",
              "          const dataTable =\n",
              "            await google.colab.kernel.invokeFunction('convertToInteractive',\n",
              "                                                     [key], {});\n",
              "          if (!dataTable) return;\n",
              "\n",
              "          const docLinkHtml = 'Like what you see? Visit the ' +\n",
              "            '<a target=\"_blank\" href=https://colab.research.google.com/notebooks/data_table.ipynb>data table notebook</a>'\n",
              "            + ' to learn more about interactive tables.';\n",
              "          element.innerHTML = '';\n",
              "          dataTable['output_type'] = 'display_data';\n",
              "          await google.colab.output.renderOutput(dataTable, element);\n",
              "          const docLink = document.createElement('div');\n",
              "          docLink.innerHTML = docLinkHtml;\n",
              "          element.appendChild(docLink);\n",
              "        }\n",
              "      </script>\n",
              "    </div>\n",
              "  </div>\n",
              "  "
            ],
            "text/plain": [
              "                                        Skew\n",
              "possibly_sensitive                  7.608901\n",
              "mention_count                       2.355788\n",
              "emoji_count                         1.446441\n",
              "check_media                         1.196436\n",
              "profanity_probability               0.826361\n",
              "url_count                           0.397400\n",
              "author.public_metrics.listed_count  0.317388\n",
              "text_preprocessed_sentiment         0.300435\n",
              "text_preprocessed_emotion_heading   0.109830\n",
              "avg_length_words                    0.027040"
            ]
          },
          "execution_count": 125,
          "metadata": {},
          "output_type": "execute_result"
        }
      ],
      "source": [
        "# Check the skew of all numerical features\n",
        "numeric_feats = df_new.dtypes[df_new.dtypes != \"object\"].index\n",
        "skewed_feats = df_new[numeric_feats].apply(lambda x: skew(x.dropna())).sort_values(ascending=False)\n",
        "print(\"\\nSkew in numerical features: \\n\")\n",
        "skewness = pd.DataFrame({'Skew' :skewed_feats})\n",
        "skewness.head(10)"
      ],
      "id": "WE5__Xrml6xm"
    },
    {
      "cell_type": "code",
      "execution_count": null,
      "metadata": {
        "id": "258512f2"
      },
      "outputs": [],
      "source": [
        "X = df_new"
      ],
      "id": "258512f2"
    },
    {
      "cell_type": "code",
      "execution_count": null,
      "metadata": {
        "id": "05168fa1"
      },
      "outputs": [],
      "source": [
        "Y = df['Engagement_Total_Class']\n",
        "X_train, X_test, y_train, y_test = train_test_split(X, Y, test_size=0.3, random_state=5346854)\n",
        "#7"
      ],
      "id": "05168fa1"
    },
    {
      "cell_type": "code",
      "execution_count": null,
      "metadata": {
        "id": "7d1eeba1"
      },
      "outputs": [],
      "source": [
        "# prepare the cross-validation procedure\n",
        "cv = KFold(n_splits=10, random_state=1, shuffle=True)"
      ],
      "id": "7d1eeba1"
    },
    {
      "cell_type": "markdown",
      "metadata": {
        "id": "c41a82da"
      },
      "source": [
        "# Comparing All the Models without Tuning"
      ],
      "id": "c41a82da"
    },
    {
      "cell_type": "code",
      "execution_count": null,
      "metadata": {
        "id": "1a89dbbb"
      },
      "outputs": [],
      "source": [
        "X_test['flesch_reading'] = X_test['flesch_reading'].fillna(0)\n",
        "X_train['flesch_reading'] = X_train['flesch_reading'].fillna(0)\n",
        "X['flesch_reading'] = X['flesch_reading'].fillna(0)\n"
      ],
      "id": "1a89dbbb"
    },
    {
      "cell_type": "code",
      "execution_count": null,
      "metadata": {
        "colab": {
          "base_uri": "https://localhost:8080/"
        },
        "id": "TQjtSlrFuVAY",
        "outputId": "8f7853c0-2481-409e-fb0c-bf246a315e84"
      },
      "outputs": [
        {
          "name": "stdout",
          "output_type": "stream",
          "text": [
            "\u001b[K     |████████████████████████████████| 76.6 MB 72 kB/s \n",
            "\u001b[?25hRequirement already satisfied: pandas>=0.24.0 in /usr/local/lib/python3.7/dist-packages (from CatBoost) (1.3.5)\n",
            "Requirement already satisfied: numpy>=1.16.0 in /usr/local/lib/python3.7/dist-packages (from CatBoost) (1.21.6)\n",
            "Requirement already satisfied: scipy in /usr/local/lib/python3.7/dist-packages (from CatBoost) (1.4.1)\n",
            "Requirement already satisfied: plotly in /usr/local/lib/python3.7/dist-packages (from CatBoost) (5.5.0)\n",
            "Requirement already satisfied: matplotlib in /usr/local/lib/python3.7/dist-packages (from CatBoost) (3.2.2)\n",
            "Requirement already satisfied: six in /usr/local/lib/python3.7/dist-packages (from CatBoost) (1.15.0)\n",
            "Requirement already satisfied: graphviz in /usr/local/lib/python3.7/dist-packages (from CatBoost) (0.10.1)\n",
            "Requirement already satisfied: python-dateutil>=2.7.3 in /usr/local/lib/python3.7/dist-packages (from pandas>=0.24.0->CatBoost) (2.8.2)\n",
            "Requirement already satisfied: pytz>=2017.3 in /usr/local/lib/python3.7/dist-packages (from pandas>=0.24.0->CatBoost) (2022.1)\n",
            "Requirement already satisfied: pyparsing!=2.0.4,!=2.1.2,!=2.1.6,>=2.0.1 in /usr/local/lib/python3.7/dist-packages (from matplotlib->CatBoost) (3.0.9)\n",
            "Requirement already satisfied: cycler>=0.10 in /usr/local/lib/python3.7/dist-packages (from matplotlib->CatBoost) (0.11.0)\n",
            "Requirement already satisfied: kiwisolver>=1.0.1 in /usr/local/lib/python3.7/dist-packages (from matplotlib->CatBoost) (1.4.2)\n",
            "Requirement already satisfied: typing-extensions in /usr/local/lib/python3.7/dist-packages (from kiwisolver>=1.0.1->matplotlib->CatBoost) (4.2.0)\n",
            "Requirement already satisfied: tenacity>=6.2.0 in /usr/local/lib/python3.7/dist-packages (from plotly->CatBoost) (8.0.1)\n",
            "Installing collected packages: CatBoost\n",
            "Successfully installed CatBoost-1.0.6\n"
          ]
        }
      ],
      "source": [
        "!pip install CatBoost\n",
        "from catboost import CatBoostClassifier"
      ],
      "id": "TQjtSlrFuVAY"
    },
    {
      "cell_type": "code",
      "execution_count": null,
      "metadata": {
        "colab": {
          "base_uri": "https://localhost:8080/"
        },
        "id": "vFzGs4YRq7j5",
        "outputId": "665e358f-4f54-4014-e823-dd03a7c6fdb5"
      },
      "outputs": [
        {
          "name": "stdout",
          "output_type": "stream",
          "text": [
            "Looking in indexes: https://pypi.org/simple, https://us-python.pkg.dev/colab-wheels/public/simple/\n",
            "Requirement already satisfied: lightgbm in /usr/local/lib/python3.7/dist-packages (2.2.3)\n",
            "Requirement already satisfied: scipy in /usr/local/lib/python3.7/dist-packages (from lightgbm) (1.4.1)\n",
            "Requirement already satisfied: scikit-learn in /usr/local/lib/python3.7/dist-packages (from lightgbm) (1.0.2)\n",
            "Requirement already satisfied: numpy in /usr/local/lib/python3.7/dist-packages (from lightgbm) (1.21.6)\n",
            "Requirement already satisfied: joblib>=0.11 in /usr/local/lib/python3.7/dist-packages (from scikit-learn->lightgbm) (1.1.0)\n",
            "Requirement already satisfied: threadpoolctl>=2.0.0 in /usr/local/lib/python3.7/dist-packages (from scikit-learn->lightgbm) (3.1.0)\n"
          ]
        }
      ],
      "source": [
        "!pip install lightgbm\n",
        "import lightgbm as lgb\n"
      ],
      "id": "vFzGs4YRq7j5"
    },
    {
      "cell_type": "code",
      "execution_count": null,
      "metadata": {
        "colab": {
          "base_uri": "https://localhost:8080/"
        },
        "id": "ac45e19f",
        "outputId": "5117ce62-8d31-4404-cfd9-ae113961f0b3"
      },
      "outputs": [
        {
          "name": "stdout",
          "output_type": "stream",
          "text": [
            "Looking in indexes: https://pypi.org/simple, https://us-python.pkg.dev/colab-wheels/public/simple/\n",
            "Requirement already satisfied: xgboost in /usr/local/lib/python3.7/dist-packages (0.90)\n",
            "Requirement already satisfied: numpy in /usr/local/lib/python3.7/dist-packages (from xgboost) (1.21.6)\n",
            "Requirement already satisfied: scipy in /usr/local/lib/python3.7/dist-packages (from xgboost) (1.4.1)\n"
          ]
        }
      ],
      "source": [
        "!pip install xgboost\n",
        "from sklearn.metrics import accuracy_score, log_loss, f1_score\n",
        "from sklearn.linear_model import LogisticRegression\n",
        "from sklearn.neighbors import KNeighborsClassifier\n",
        "from sklearn.svm import SVC, LinearSVC, NuSVC\n",
        "from sklearn.tree import DecisionTreeClassifier\n",
        "from sklearn.ensemble import RandomForestClassifier, AdaBoostClassifier, GradientBoostingClassifier\n",
        "from sklearn.naive_bayes import GaussianNB\n",
        "from sklearn.discriminant_analysis import LinearDiscriminantAnalysis\n",
        "from sklearn.discriminant_analysis import QuadraticDiscriminantAnalysis\n",
        "from xgboost import XGBClassifier\n",
        "import xgboost\n",
        "\n",
        "classifiers = [\n",
        "    CatBoostClassifier(),\n",
        "    lgb.LGBMClassifier(),\n",
        "    KNeighborsClassifier(3),\n",
        "    RandomForestClassifier(),\n",
        "    XGBClassifier(),\n",
        "    AdaBoostClassifier(),\n",
        "    GradientBoostingClassifier(),\n",
        "    GaussianNB(),\n",
        "    LinearDiscriminantAnalysis(),\n",
        "    LogisticRegression()]"
      ],
      "id": "ac45e19f"
    },
    {
      "cell_type": "code",
      "execution_count": null,
      "metadata": {
        "id": "1zz9YG1h2N-K"
      },
      "outputs": [],
      "source": [
        "\n",
        "import scipy.stats\n",
        "log_cols=[\"Classifier\", 'F1 Score', 'ci_lower', 'ci_upper' ]\n",
        "log = pd.DataFrame(columns=log_cols)\n",
        "\n",
        "confidence = 0.95  # Change to your desired confidence level\n",
        "z_value = scipy.stats.norm.ppf((1 + confidence) / 2.0)\n",
        "\n",
        "\n",
        "for clf in classifiers:\n",
        "    clf.fit(X_train, y_train)\n",
        "    name = clf.__class__.__name__\n",
        "    \n",
        "    print(\"=\"*40)\n",
        "    print(name)\n",
        "\n",
        "    train_predictions = clf.predict(X_test)\n",
        "    f1 = f1_score(y_test, train_predictions, average='micro')\n",
        "    ci_length = z_value * np.sqrt((f1 * (1 - f1)) / y_test.shape[0])\n",
        "    ci_lower = f1 - ci_length\n",
        "    ci_upper = f1 + ci_length\n",
        "\n",
        "    print(\"F1 Score: {}\".format(f1))\n",
        "    \n",
        "    \n",
        "    log_entry = pd.DataFrame([[name, f1, ci_lower, ci_upper ]], columns=log_cols)\n",
        "    log = log.append(log_entry)\n",
        "    \n",
        "print(\"=\"*40)"
      ],
      "id": "1zz9YG1h2N-K"
    },
    {
      "cell_type": "code",
      "execution_count": null,
      "metadata": {
        "colab": {
          "base_uri": "https://localhost:8080/",
          "height": 666
        },
        "id": "Z3lBpW5ultS9",
        "outputId": "37712ef2-e960-48aa-d6a4-1c4d95be73b1"
      },
      "outputs": [
        {
          "data": {
            "application/javascript": [
              "\n",
              "    async function download(id, filename, size) {\n",
              "      if (!google.colab.kernel.accessAllowed) {\n",
              "        return;\n",
              "      }\n",
              "      const div = document.createElement('div');\n",
              "      const label = document.createElement('label');\n",
              "      label.textContent = `Downloading \"${filename}\": `;\n",
              "      div.appendChild(label);\n",
              "      const progress = document.createElement('progress');\n",
              "      progress.max = size;\n",
              "      div.appendChild(progress);\n",
              "      document.body.appendChild(div);\n",
              "\n",
              "      const buffers = [];\n",
              "      let downloaded = 0;\n",
              "\n",
              "      const channel = await google.colab.kernel.comms.open(id);\n",
              "      // Send a message to notify the kernel that we're ready.\n",
              "      channel.send({})\n",
              "\n",
              "      for await (const message of channel.messages) {\n",
              "        // Send a message to notify the kernel that we're ready.\n",
              "        channel.send({})\n",
              "        if (message.buffers) {\n",
              "          for (const buffer of message.buffers) {\n",
              "            buffers.push(buffer);\n",
              "            downloaded += buffer.byteLength;\n",
              "            progress.value = downloaded;\n",
              "          }\n",
              "        }\n",
              "      }\n",
              "      const blob = new Blob(buffers, {type: 'application/binary'});\n",
              "      const a = document.createElement('a');\n",
              "      a.href = window.URL.createObjectURL(blob);\n",
              "      a.download = filename;\n",
              "      div.appendChild(a);\n",
              "      a.click();\n",
              "      div.remove();\n",
              "    }\n",
              "  "
            ],
            "text/plain": [
              "<IPython.core.display.Javascript object>"
            ]
          },
          "metadata": {},
          "output_type": "display_data"
        },
        {
          "data": {
            "application/javascript": [
              "download(\"download_2bb14635-e9a0-47f2-90f9-430564c815fd\", \"all_models.pdf\", 17656)"
            ],
            "text/plain": [
              "<IPython.core.display.Javascript object>"
            ]
          },
          "metadata": {},
          "output_type": "display_data"
        },
        {
          "data": {
            "image/png": "[encoded data removed]",
            "text/plain": [
              "<Figure size 1200x800 with 1 Axes>"
            ]
          },
          "metadata": {},
          "output_type": "display_data"
        }
      ],
      "source": [
        "log.reset_index(drop=True)\n",
        "from google.colab import files\n",
        "import seaborn as sns\n",
        "import matplotlib.pyplot as plt\n",
        "import math\n",
        "plt.rcdefaults()\n",
        "fig, ax = plt.subplots(figsize=(12,8))\n",
        "\n",
        "g = (log['F1 Score'].plot.barh(xerr=log['F1 Score'] - log['ci_lower'],\n",
        "                     ax=ax, capsize=4)\n",
        ")\n",
        "ax.set_yticklabels(log['Classifier'])\n",
        "ax.set_xlim(0.4, 0.605)\n",
        "\n",
        "for i, v in enumerate(log['F1 Score']):\n",
        "    plt.text(v+0.010, i, str(round(v, 3)), color='steelblue', va=\"center\")\n",
        "\n",
        "\n",
        "plt.xlabel('F1 Score')\n",
        "plt.title('Classifier F1 Score')\n",
        "plt.savefig(\"all_models.pdf\", bbox_inches='tight')\n",
        "files.download(\"all_models.pdf\")\n",
        "plt.show()"
      ],
      "id": "Z3lBpW5ultS9"
    },
    {
      "cell_type": "markdown",
      "metadata": {
        "id": "1OjE9hb2d_4R"
      },
      "source": [
        "# Bootstrapping Confidence Interval"
      ],
      "id": "1OjE9hb2d_4R"
    },
    {
      "cell_type": "code",
      "execution_count": null,
      "metadata": {
        "colab": {
          "base_uri": "https://localhost:8080/"
        },
        "id": "rQw5iMGFNz3U",
        "outputId": "02a2bb3e-bf67-40b9-bbd3-c22733188c95"
      },
      "outputs": [
        {
          "data": {
            "text/plain": [
              "0.5585527557936977"
            ]
          },
          "execution_count": 141,
          "metadata": {},
          "output_type": "execute_result"
        }
      ],
      "source": [
        "#clf = XGBClassifier()\n",
        "#clf = lgb.LGBMClassifier()\n",
        "#clf = CatBoostClassifier()\n",
        "clf = LogisticRegression()\n",
        "rng = np.random.RandomState(seed=12345)\n",
        "idx = np.arange(y_train.shape[0])\n",
        "X_train2 = X_train.reset_index(drop=True)\n",
        "y_train2 = y_train.reset_index(drop=True)\n",
        "bootstrap_train_accuracies = []\n",
        "\n",
        "for i in range(200):\n",
        "    \n",
        "    train_idx = rng.choice(idx, size=idx.shape[0], replace=True)\n",
        "    test_idx = np.setdiff1d(idx, train_idx, assume_unique=False)\n",
        "    \n",
        "    \n",
        "    boot_train_X, boot_train_y = X_train2.loc[train_idx], y_train2.loc[train_idx]\n",
        "    boot_test_X, boot_test_y = X_train2.loc[test_idx], y_train2.loc[test_idx]\n",
        "\n",
        "    clf.fit(boot_train_X, boot_train_y)\n",
        "    train_predictions = clf.predict(boot_test_X)\n",
        "    acc = f1_score(boot_test_y, train_predictions, average='micro')\n",
        "    bootstrap_train_accuracies.append(acc)\n",
        "\n",
        "bootstrap_train_mean = np.mean(bootstrap_train_accuracies)\n",
        "bootstrap_train_mean\n"
      ],
      "id": "rQw5iMGFNz3U"
    },
    {
      "cell_type": "code",
      "execution_count": null,
      "metadata": {
        "colab": {
          "base_uri": "https://localhost:8080/"
        },
        "id": "yZagvs0eZs1Q",
        "outputId": "752ab33e-3c96-4a19-8582-2bdd6d1f9b7a"
      },
      "outputs": [
        {
          "name": "stdout",
          "output_type": "stream",
          "text": [
            "0.5536973307568731 0.5634081808305222\n"
          ]
        }
      ],
      "source": [
        "bootstrap_rounds = 200\n",
        "confidence = 0.95  # Change to your desired confidence level\n",
        "t_value = scipy.stats.t.ppf((1 + confidence) / 2.0, df=bootstrap_rounds - 1)\n",
        "se = 0.0\n",
        "for acc in bootstrap_train_accuracies:\n",
        "    se += (acc - bootstrap_train_mean) ** 2\n",
        "se = np.sqrt((1.0 / (bootstrap_rounds - 1)) * se)\n",
        "\n",
        "ci_length = t_value * se\n",
        "\n",
        "ci_lower = bootstrap_train_mean - ci_length\n",
        "ci_upper = bootstrap_train_mean + ci_length\n",
        "\n",
        "print(ci_lower, ci_upper)"
      ],
      "id": "yZagvs0eZs1Q"
    },
    {
      "cell_type": "code",
      "execution_count": null,
      "metadata": {
        "colab": {
          "base_uri": "https://localhost:8080/",
          "height": 429
        },
        "id": "aLNtXpbdZ2ca",
        "outputId": "fb76ecfe-7d75-422e-dd59-6137c8d845db"
      },
      "outputs": [
        {
          "data": {
            "application/javascript": [
              "\n",
              "    async function download(id, filename, size) {\n",
              "      if (!google.colab.kernel.accessAllowed) {\n",
              "        return;\n",
              "      }\n",
              "      const div = document.createElement('div');\n",
              "      const label = document.createElement('label');\n",
              "      label.textContent = `Downloading \"${filename}\": `;\n",
              "      div.appendChild(label);\n",
              "      const progress = document.createElement('progress');\n",
              "      progress.max = size;\n",
              "      div.appendChild(progress);\n",
              "      document.body.appendChild(div);\n",
              "\n",
              "      const buffers = [];\n",
              "      let downloaded = 0;\n",
              "\n",
              "      const channel = await google.colab.kernel.comms.open(id);\n",
              "      // Send a message to notify the kernel that we're ready.\n",
              "      channel.send({})\n",
              "\n",
              "      for await (const message of channel.messages) {\n",
              "        // Send a message to notify the kernel that we're ready.\n",
              "        channel.send({})\n",
              "        if (message.buffers) {\n",
              "          for (const buffer of message.buffers) {\n",
              "            buffers.push(buffer);\n",
              "            downloaded += buffer.byteLength;\n",
              "            progress.value = downloaded;\n",
              "          }\n",
              "        }\n",
              "      }\n",
              "      const blob = new Blob(buffers, {type: 'application/binary'});\n",
              "      const a = document.createElement('a');\n",
              "      a.href = window.URL.createObjectURL(blob);\n",
              "      a.download = filename;\n",
              "      div.appendChild(a);\n",
              "      a.click();\n",
              "      div.remove();\n",
              "    }\n",
              "  "
            ],
            "text/plain": [
              "<IPython.core.display.Javascript object>"
            ]
          },
          "metadata": {},
          "output_type": "display_data"
        },
        {
          "data": {
            "application/javascript": [
              "download(\"download_26ad395d-ea78-455f-8991-19283435c778\", \"lr3_ci.pdf\", 14183)"
            ],
            "text/plain": [
              "<IPython.core.display.Javascript object>"
            ]
          },
          "metadata": {},
          "output_type": "display_data"
        },
        {
          "data": {
            "image/png": "[encoded data removed]",
            "text/plain": [
              "<Figure size 800x400 with 1 Axes>"
            ]
          },
          "metadata": {},
          "output_type": "display_data"
        }
      ],
      "source": [
        "from google.colab import files\n",
        "fig, ax = plt.subplots(figsize=(8, 4))\n",
        "ax.vlines( bootstrap_train_mean, [0], 80, lw=2.5, linestyle='-', label='bootstrap train mean')\n",
        "\n",
        "ax.vlines(ci_upper, [0], 15, lw=2.5, linestyle='dotted', \n",
        "          label='CI95 bootstrap', color='C2')\n",
        "ax.vlines(ci_lower, [0], 15, lw=2.5, linestyle='dotted', color='C2')\n",
        "\n",
        "ax.hist(bootstrap_train_accuracies, bins=7,\n",
        "        color='#0080ff', edgecolor=\"none\", \n",
        "        alpha=0.3)\n",
        "plt.legend(loc='upper left')\n",
        "\n",
        "plt.xlim([0.55, 0.5675])\n",
        "plt.xlabel('F1 Score')\n",
        "plt.ylabel('Count')\n",
        "plt.tight_layout()\n",
        "plt.title('Logistic Regression F1 Score')\n",
        "plt.savefig(\"lr3_ci.pdf\", bbox_inches='tight')\n",
        "files.download(\"lr3_ci.pdf\")\n",
        "plt.show()\n"
      ],
      "id": "aLNtXpbdZ2ca"
    },
    {
      "cell_type": "code",
      "execution_count": null,
      "metadata": {
        "colab": {
          "base_uri": "https://localhost:8080/"
        },
        "id": "HdWPPW10rEUb",
        "outputId": "44c98b9b-6ca1-484b-9b3d-84db50dc8791"
      },
      "outputs": [
        {
          "name": "stdout",
          "output_type": "stream",
          "text": [
            "0.5582685277110929 0.5724116719149311\n"
          ]
        }
      ],
      "source": [
        "clf = XGBClassifier()\n",
        "rng = np.random.RandomState(seed=12345)\n",
        "idx = np.arange(y_train.shape[0])\n",
        "X_train2 = X_train.reset_index(drop=True)\n",
        "y_train2 = y_train.reset_index(drop=True)\n",
        "bootstrap_train_accuracies = []\n",
        "\n",
        "for i in range(30):\n",
        "    \n",
        "    train_idx = rng.choice(idx, size=idx.shape[0], replace=True)\n",
        "    test_idx = np.setdiff1d(idx, train_idx, assume_unique=False)\n",
        "    \n",
        "    \n",
        "    boot_train_X, boot_train_y = X_train2.loc[train_idx], y_train2.loc[train_idx]\n",
        "    boot_test_X, boot_test_y = X_train2.loc[test_idx], y_train2.loc[test_idx]\n",
        "\n",
        "    clf.fit(boot_train_X, boot_train_y)\n",
        "    train_predictions = clf.predict(boot_test_X)\n",
        "    acc = f1_score(boot_test_y, train_predictions, average='micro')\n",
        "    bootstrap_train_accuracies.append(acc)\n",
        "\n",
        "bootstrap_train_mean = np.mean(bootstrap_train_accuracies)\n",
        "bootstrap_train_mean\n",
        "bootstrap_rounds = 30\n",
        "confidence = 0.95  # Change to your desired confidence level\n",
        "t_value = scipy.stats.t.ppf((1 + confidence) / 2.0, df=bootstrap_rounds - 1)\n",
        "se = 0.0\n",
        "for acc in bootstrap_train_accuracies:\n",
        "    se += (acc - bootstrap_train_mean) ** 2\n",
        "se = np.sqrt((1.0 / (bootstrap_rounds - 1)) * se)\n",
        "\n",
        "ci_length = t_value * se\n",
        "\n",
        "ci_lower = bootstrap_train_mean - ci_length\n",
        "ci_upper = bootstrap_train_mean + ci_length\n",
        "\n",
        "print(ci_lower, ci_upper)\n",
        "\n",
        "\n"
      ],
      "id": "HdWPPW10rEUb"
    },
    {
      "cell_type": "code",
      "execution_count": null,
      "metadata": {
        "colab": {
          "base_uri": "https://localhost:8080/",
          "height": 429
        },
        "id": "ic2sKXhmzV5m",
        "outputId": "3694ff11-0af9-437d-cdf2-dc82035272e9"
      },
      "outputs": [
        {
          "data": {
            "application/javascript": [
              "\n",
              "    async function download(id, filename, size) {\n",
              "      if (!google.colab.kernel.accessAllowed) {\n",
              "        return;\n",
              "      }\n",
              "      const div = document.createElement('div');\n",
              "      const label = document.createElement('label');\n",
              "      label.textContent = `Downloading \"${filename}\": `;\n",
              "      div.appendChild(label);\n",
              "      const progress = document.createElement('progress');\n",
              "      progress.max = size;\n",
              "      div.appendChild(progress);\n",
              "      document.body.appendChild(div);\n",
              "\n",
              "      const buffers = [];\n",
              "      let downloaded = 0;\n",
              "\n",
              "      const channel = await google.colab.kernel.comms.open(id);\n",
              "      // Send a message to notify the kernel that we're ready.\n",
              "      channel.send({})\n",
              "\n",
              "      for await (const message of channel.messages) {\n",
              "        // Send a message to notify the kernel that we're ready.\n",
              "        channel.send({})\n",
              "        if (message.buffers) {\n",
              "          for (const buffer of message.buffers) {\n",
              "            buffers.push(buffer);\n",
              "            downloaded += buffer.byteLength;\n",
              "            progress.value = downloaded;\n",
              "          }\n",
              "        }\n",
              "      }\n",
              "      const blob = new Blob(buffers, {type: 'application/binary'});\n",
              "      const a = document.createElement('a');\n",
              "      a.href = window.URL.createObjectURL(blob);\n",
              "      a.download = filename;\n",
              "      div.appendChild(a);\n",
              "      a.click();\n",
              "      div.remove();\n",
              "    }\n",
              "  "
            ],
            "text/plain": [
              "<IPython.core.display.Javascript object>"
            ]
          },
          "metadata": {},
          "output_type": "display_data"
        },
        {
          "data": {
            "application/javascript": [
              "download(\"download_fbbef1da-ed2b-4614-a2ad-06e7436eac5e\", \"xg2_ci.pdf\", 13802)"
            ],
            "text/plain": [
              "<IPython.core.display.Javascript object>"
            ]
          },
          "metadata": {},
          "output_type": "display_data"
        },
        {
          "data": {
            "image/png": "[encoded data removed]",
            "text/plain": [
              "<Figure size 800x400 with 1 Axes>"
            ]
          },
          "metadata": {},
          "output_type": "display_data"
        }
      ],
      "source": [
        "from google.colab import files\n",
        "fig, ax = plt.subplots(figsize=(8, 4))\n",
        "ax.vlines( bootstrap_train_mean, [0], 30, lw=2.5, linestyle='-', label='bootstrap train mean')\n",
        "\n",
        "ax.vlines(ci_upper, [0], 15, lw=2.5, linestyle='dotted', \n",
        "          label='CI95 bootstrap', color='C2')\n",
        "ax.vlines(ci_lower, [0], 15, lw=2.5, linestyle='dotted', color='C2')\n",
        "\n",
        "ax.hist(bootstrap_train_accuracies, bins=7,\n",
        "        color='#0080ff', edgecolor=\"none\", \n",
        "        alpha=0.3)\n",
        "plt.legend(loc='upper left')\n",
        "\n",
        "plt.xlim([0.55, 0.58])\n",
        "plt.xlabel('F1 Score')\n",
        "plt.ylabel('Count')\n",
        "plt.tight_layout()\n",
        "plt.title('XGBoost F1 Score')\n",
        "plt.savefig(\"xg2_ci.pdf\", bbox_inches='tight')\n",
        "files.download(\"xg2_ci.pdf\")\n",
        "plt.show()\n"
      ],
      "id": "ic2sKXhmzV5m"
    },
    {
      "cell_type": "code",
      "execution_count": null,
      "metadata": {
        "colab": {
          "base_uri": "https://localhost:8080/"
        },
        "id": "9jDA1znartR_",
        "outputId": "71737a2d-d28c-445a-cba7-a597c499ed65"
      },
      "outputs": [
        {
          "name": "stdout",
          "output_type": "stream",
          "text": [
            "0.5640985672685677 0.5762921230553355\n"
          ]
        }
      ],
      "source": [
        "clf = lgb.LGBMClassifier()\n",
        "rng = np.random.RandomState(seed=12345)\n",
        "idx = np.arange(y_train.shape[0])\n",
        "X_train2 = X_train.reset_index(drop=True)\n",
        "y_train2 = y_train.reset_index(drop=True)\n",
        "bootstrap_train_accuracies = []\n",
        "\n",
        "for i in range(30):\n",
        "    \n",
        "    train_idx = rng.choice(idx, size=idx.shape[0], replace=True)\n",
        "    test_idx = np.setdiff1d(idx, train_idx, assume_unique=False)\n",
        "    \n",
        "    \n",
        "    boot_train_X, boot_train_y = X_train2.loc[train_idx], y_train2.loc[train_idx]\n",
        "    boot_test_X, boot_test_y = X_train2.loc[test_idx], y_train2.loc[test_idx]\n",
        "\n",
        "    clf.fit(boot_train_X, boot_train_y)\n",
        "    train_predictions = clf.predict(boot_test_X)\n",
        "    acc = f1_score(boot_test_y, train_predictions, average='micro')\n",
        "    bootstrap_train_accuracies.append(acc)\n",
        "\n",
        "bootstrap_train_mean = np.mean(bootstrap_train_accuracies)\n",
        "bootstrap_train_mean\n",
        "bootstrap_rounds = 30\n",
        "confidence = 0.95  # Change to your desired confidence level\n",
        "t_value = scipy.stats.t.ppf((1 + confidence) / 2.0, df=bootstrap_rounds - 1)\n",
        "se = 0.0\n",
        "for acc in bootstrap_train_accuracies:\n",
        "    se += (acc - bootstrap_train_mean) ** 2\n",
        "se = np.sqrt((1.0 / (bootstrap_rounds - 1)) * se)\n",
        "\n",
        "ci_length = t_value * se\n",
        "\n",
        "ci_lower = bootstrap_train_mean - ci_length\n",
        "ci_upper = bootstrap_train_mean + ci_length\n",
        "\n",
        "print(ci_lower, ci_upper)\n",
        "\n",
        "\n",
        "\n"
      ],
      "id": "9jDA1znartR_"
    },
    {
      "cell_type": "code",
      "execution_count": null,
      "metadata": {
        "colab": {
          "base_uri": "https://localhost:8080/",
          "height": 429
        },
        "id": "knsyenJM2Vad",
        "outputId": "e98598f5-85a9-4bc5-c3c5-ff32fdf669af"
      },
      "outputs": [
        {
          "data": {
            "application/javascript": [
              "\n",
              "    async function download(id, filename, size) {\n",
              "      if (!google.colab.kernel.accessAllowed) {\n",
              "        return;\n",
              "      }\n",
              "      const div = document.createElement('div');\n",
              "      const label = document.createElement('label');\n",
              "      label.textContent = `Downloading \"${filename}\": `;\n",
              "      div.appendChild(label);\n",
              "      const progress = document.createElement('progress');\n",
              "      progress.max = size;\n",
              "      div.appendChild(progress);\n",
              "      document.body.appendChild(div);\n",
              "\n",
              "      const buffers = [];\n",
              "      let downloaded = 0;\n",
              "\n",
              "      const channel = await google.colab.kernel.comms.open(id);\n",
              "      // Send a message to notify the kernel that we're ready.\n",
              "      channel.send({})\n",
              "\n",
              "      for await (const message of channel.messages) {\n",
              "        // Send a message to notify the kernel that we're ready.\n",
              "        channel.send({})\n",
              "        if (message.buffers) {\n",
              "          for (const buffer of message.buffers) {\n",
              "            buffers.push(buffer);\n",
              "            downloaded += buffer.byteLength;\n",
              "            progress.value = downloaded;\n",
              "          }\n",
              "        }\n",
              "      }\n",
              "      const blob = new Blob(buffers, {type: 'application/binary'});\n",
              "      const a = document.createElement('a');\n",
              "      a.href = window.URL.createObjectURL(blob);\n",
              "      a.download = filename;\n",
              "      div.appendChild(a);\n",
              "      a.click();\n",
              "      div.remove();\n",
              "    }\n",
              "  "
            ],
            "text/plain": [
              "<IPython.core.display.Javascript object>"
            ]
          },
          "metadata": {},
          "output_type": "display_data"
        },
        {
          "data": {
            "application/javascript": [
              "download(\"download_a3c79add-5253-4e1e-a829-efea37301a6c\", \"gbm2_ci.pdf\", 14710)"
            ],
            "text/plain": [
              "<IPython.core.display.Javascript object>"
            ]
          },
          "metadata": {},
          "output_type": "display_data"
        },
        {
          "data": {
            "image/png": "[encoded data removed]",
            "text/plain": [
              "<Figure size 800x400 with 1 Axes>"
            ]
          },
          "metadata": {},
          "output_type": "display_data"
        }
      ],
      "source": [
        "from google.colab import files\n",
        "fig, ax = plt.subplots(figsize=(8, 4))\n",
        "ax.vlines( bootstrap_train_mean, [0], 30, lw=2.5, linestyle='-', label='bootstrap train mean')\n",
        "\n",
        "ax.vlines(ci_upper, [0], 15, lw=2.5, linestyle='dotted', \n",
        "          label='CI95 bootstrap', color='C2')\n",
        "ax.vlines(ci_lower, [0], 15, lw=2.5, linestyle='dotted', color='C2')\n",
        "\n",
        "ax.hist(bootstrap_train_accuracies, bins=7,\n",
        "        color='#0080ff', edgecolor=\"none\", \n",
        "        alpha=0.3)\n",
        "plt.legend(loc='upper left')\n",
        "\n",
        "plt.xlim([0.56, 0.58])\n",
        "plt.xlabel('F1 Score')\n",
        "plt.ylabel('Count')\n",
        "plt.tight_layout()\n",
        "plt.title('LightGBM F1 Score')\n",
        "plt.savefig(\"gbm2_ci.pdf\", bbox_inches='tight')\n",
        "files.download(\"gbm2_ci.pdf\")\n",
        "plt.show()"
      ],
      "id": "knsyenJM2Vad"
    },
    {
      "cell_type": "code",
      "execution_count": null,
      "metadata": {
        "id": "2oen7tj-faX8"
      },
      "outputs": [],
      "source": [
        "# Logging for Visual Comparison\n",
        "log_cols=[\"Classifier\", \"Accuracy\", \"Log Loss\", 'F1 Score']\n",
        "log = pd.DataFrame(columns=log_cols)\n",
        "\n",
        "for clf in classifiers:\n",
        "    clf.fit(X_train, y_train)\n",
        "    name = clf.__class__.__name__\n",
        "    \n",
        "    print(\"=\"*40)\n",
        "    print(name)\n",
        "    \n",
        "    print('****Results****')\n",
        "    train_predictions = clf.predict(X_test)\n",
        "    acc = accuracy_score(y_test, train_predictions)\n",
        "    print(\"Accuracy: {:.4%}\".format(acc))\n",
        "    \n",
        "    train_predictions = clf.predict_proba(X_test)\n",
        "    ll = log_loss(y_test, train_predictions)\n",
        "    print(\"Log Loss: {}\".format(ll))\n",
        "    \n",
        "    train_predictions = clf.predict(X_test)\n",
        "    f1 = f1_score(y_test, train_predictions, average='micro')\n",
        "    print(\"F1 Score: {}\".format(f1))\n",
        "    \n",
        "    \n",
        "    log_entry = pd.DataFrame([[name, acc*100, ll, f1]], columns=log_cols)\n",
        "    log = log.append(log_entry)\n",
        "    \n",
        "print(\"=\"*40)"
      ],
      "id": "2oen7tj-faX8"
    },
    {
      "cell_type": "code",
      "execution_count": null,
      "metadata": {
        "colab": {
          "base_uri": "https://localhost:8080/",
          "height": 851
        },
        "id": "25d2c91c",
        "outputId": "26af79bf-6c77-468e-bf6d-53d92876dc32"
      },
      "outputs": [
        {
          "data": {
            "image/png": "[encoded data removed]",
            "text/plain": [
              "<Figure size 432x288 with 1 Axes>"
            ]
          },
          "metadata": {},
          "output_type": "display_data"
        },
        {
          "data": {
            "image/png": "[encoded data removed]",
            "text/plain": [
              "<Figure size 432x288 with 1 Axes>"
            ]
          },
          "metadata": {},
          "output_type": "display_data"
        },
        {
          "data": {
            "image/png": "[encoded data removed]",
            "text/plain": [
              "<Figure size 432x288 with 1 Axes>"
            ]
          },
          "metadata": {},
          "output_type": "display_data"
        }
      ],
      "source": [
        "sns.set_color_codes(\"muted\")\n",
        "sns.barplot(x='Accuracy', y='Classifier', data=log, color=\"b\")\n",
        "\n",
        "plt.xlabel('Accuracy %')\n",
        "plt.title('Classifier Accuracy')\n",
        "plt.show()\n",
        "\n",
        "sns.set_color_codes(\"muted\")\n",
        "sns.barplot(x='Log Loss', y='Classifier', data=log, color=\"g\")\n",
        "\n",
        "plt.xlabel('Log Loss')\n",
        "plt.title('Classifier Log Loss')\n",
        "plt.show()\n",
        "\n",
        "sns.set_color_codes(\"muted\")\n",
        "sns.barplot(x='F1 Score', y='Classifier', data=log, color=\"r\")\n",
        "\n",
        "plt.xlabel('F1 Score')\n",
        "plt.title('Classifier F1 Score')\n",
        "plt.show()"
      ],
      "id": "25d2c91c"
    },
    {
      "cell_type": "markdown",
      "metadata": {
        "id": "5vI_G_ZfYv4T"
      },
      "source": [
        "# Grouping the feature sets"
      ],
      "id": "5vI_G_ZfYv4T"
    },
    {
      "cell_type": "code",
      "execution_count": null,
      "metadata": {
        "id": "kPw-lHIOYBkC"
      },
      "outputs": [],
      "source": [
        "log_cols=[\"Feature Group\", \"F1 Score\"]\n",
        "log = pd.DataFrame(columns=log_cols)\n"
      ],
      "id": "kPw-lHIOYBkC"
    },
    {
      "cell_type": "code",
      "execution_count": null,
      "metadata": {
        "id": "pq_JZnmTY3MA"
      },
      "outputs": [],
      "source": [
        "X_lexical = df_new[['mention_count', 'url_count', 'avg_length_words',\n",
        "                        'emoji_count', 'text_length', 'possibly_sensitive', 'check_hashtags',  'check_media'\t\n",
        "                        ]]\n",
        "Y_lexical = df['Engagement_Total_Class']\n",
        "X_train_lexical, X_test_lexical, y_train_lexical, y_test_lexical = train_test_split(X_lexical, Y_lexical, test_size=0.3, random_state=5346854)\n",
        "\n",
        "\n",
        "X_metadata = df_new[['author.public_metrics.listed_count', \n",
        "                   'author.public_metrics.followers_count', \n",
        "                   'author.public_metrics.tweet_count','account_duration', \n",
        "                   'day_name', 'source']]\n",
        "Y_metadata = df['Engagement_Total_Class']\n",
        "X_train_metadata, X_test_metadata, y_train_metadata, y_test_metadata = train_test_split(X_metadata, Y_metadata, test_size=0.3, random_state=5346854)\n",
        "\n",
        "X_NLP =df_new[['text_preprocessed_sentiment', \n",
        "                   'text_preprocessed_emotion_heading', 'flesch_reading', 'profanity_probability']]\n",
        "Y_NLP = df['Engagement_Total_Class']\n",
        "X_train_NLP, X_test_NLP, y_train_NLP, y_test_NLP = train_test_split(X_NLP, Y_NLP, test_size=0.3, random_state=5346854)\n",
        "\n",
        "\n",
        "\n",
        "\n"
      ],
      "id": "pq_JZnmTY3MA"
    },
    {
      "cell_type": "code",
      "execution_count": null,
      "metadata": {
        "colab": {
          "base_uri": "https://localhost:8080/"
        },
        "id": "Wj-xjvBmR0Io",
        "outputId": "1b7bc29e-be49-4004-c5d4-8e6b2ecd6175"
      },
      "outputs": [
        {
          "name": "stdout",
          "output_type": "stream",
          "text": [
            "F1 Score: 0.5092349248065411\n"
          ]
        }
      ],
      "source": [
        "clf = lgb.LGBMClassifier( n_estimators= 198,\n",
        "                          learning_rate = 0.05, \n",
        "                          num_leaves = 41,\n",
        "                         lambda_l2 =0.0705, \n",
        "                          feature_fraction = 0.6154918829220486, \n",
        "                          bagging_fraction= 0.6096119515891867, \n",
        "                          bagging_freq =1,\n",
        "                          min_data_in_leaf= 4, \n",
        "                         min_split_gain =0.0169,\n",
        "                         reg_alpha = 0.001,\n",
        "    )\n",
        "clf.fit(X_train_lexical, y_train_lexical)\n",
        "# predict the results\n",
        "y_pred=clf.predict(X_test_lexical)\n",
        "# view accuracy\n",
        "f1 = f1_score (y_test_lexical, y_pred, average='micro')\n",
        "print(\"F1 Score: {}\".format(f1))\n",
        "\n",
        "log = log.append(pd.DataFrame([['Tweet', f1]], columns=log_cols))"
      ],
      "id": "Wj-xjvBmR0Io"
    },
    {
      "cell_type": "code",
      "execution_count": null,
      "metadata": {
        "colab": {
          "base_uri": "https://localhost:8080/"
        },
        "id": "I7qlqJIISFDs",
        "outputId": "4d8e1630-d95f-4595-9a44-72fe91479cf5"
      },
      "outputs": [
        {
          "name": "stdout",
          "output_type": "stream",
          "text": [
            "F1 Score: 0.5564680975324865\n"
          ]
        }
      ],
      "source": [
        "clf = lgb.LGBMClassifier( n_estimators= 198,\n",
        "                          learning_rate = 0.05, \n",
        "                          num_leaves = 41,\n",
        "                         lambda_l2 =0.0705, \n",
        "                          feature_fraction = 0.6154918829220486, \n",
        "                          bagging_fraction= 0.6096119515891867, \n",
        "                          bagging_freq =1,\n",
        "                          min_data_in_leaf= 4, \n",
        "                         min_split_gain =0.0169,\n",
        "                         reg_alpha = 0.001,\n",
        "    )\n",
        "clf.fit(X_train_metadata, y_train_metadata)\n",
        "# predict the results\n",
        "y_pred=clf.predict(X_test_metadata)\n",
        "# view accuracy\n",
        "f1 = f1_score (y_test_metadata, y_pred, average='micro')\n",
        "print(\"F1 Score: {}\".format(f1))\n",
        "log = log.append(pd.DataFrame([['Metadata', f1]], columns=log_cols))"
      ],
      "id": "I7qlqJIISFDs"
    },
    {
      "cell_type": "code",
      "execution_count": null,
      "metadata": {
        "colab": {
          "base_uri": "https://localhost:8080/"
        },
        "id": "Q32jJm8qSLdl",
        "outputId": "9f4edfd2-a854-4f77-8598-1ebdb9ed5c6f"
      },
      "outputs": [
        {
          "name": "stdout",
          "output_type": "stream",
          "text": [
            "F1 Score: 0.49879544459045116\n"
          ]
        }
      ],
      "source": [
        "clf = lgb.LGBMClassifier( n_estimators= 198,\n",
        "                          learning_rate = 0.05, \n",
        "                          num_leaves = 41,\n",
        "                         lambda_l2 =0.0705, \n",
        "                          feature_fraction = 0.6154918829220486, \n",
        "                          bagging_fraction= 0.6096119515891867, \n",
        "                          bagging_freq =1,\n",
        "                          min_data_in_leaf= 4, \n",
        "                         min_split_gain =0.0169,\n",
        "                         reg_alpha = 0.001,\n",
        "    )\n",
        "clf.fit(X_train_NLP, y_train_NLP)\n",
        "# predict the results\n",
        "y_pred=clf.predict(X_test_NLP)\n",
        "# view accuracy\n",
        "f1 = f1_score (y_test_NLP, y_pred, average='micro')\n",
        "print(\"F1 Score: {}\".format(f1))\n",
        "\n",
        "log = log.append(pd.DataFrame([['Text', f1]], columns=log_cols))"
      ],
      "id": "Q32jJm8qSLdl"
    },
    {
      "cell_type": "code",
      "execution_count": null,
      "metadata": {
        "id": "WEQVaGAwlBZm"
      },
      "outputs": [],
      "source": [
        "X_NLP_met =df_new[['author.public_metrics.listed_count', \n",
        "                   'author.public_metrics.followers_count', \n",
        "                   'author.public_metrics.tweet_count','account_duration', \n",
        "                   'day_name', 'source',\n",
        "               'text_preprocessed_sentiment', \n",
        "                   'text_preprocessed_emotion_heading', 'flesch_reading', 'profanity_probability'\n",
        "               ]]\n",
        "Y_NLP_met = df['Engagement_Total_Class']\n",
        "X_train_NLP_met, X_test_NLP_met, y_train_NLP_met, y_test_NLP_met = train_test_split(X_NLP_met, Y_NLP_met, test_size=0.3, random_state=5346854)\n",
        "\n"
      ],
      "id": "WEQVaGAwlBZm"
    },
    {
      "cell_type": "code",
      "execution_count": null,
      "metadata": {
        "colab": {
          "base_uri": "https://localhost:8080/"
        },
        "id": "THN3jRB_S1Nd",
        "outputId": "6014a00e-8346-4792-9c44-c0c3e94afed5"
      },
      "outputs": [
        {
          "name": "stdout",
          "output_type": "stream",
          "text": [
            "F1 Score: 0.5614688275660681\n"
          ]
        }
      ],
      "source": [
        "clf = lgb.LGBMClassifier( n_estimators= 198,\n",
        "                          learning_rate = 0.05, \n",
        "                          num_leaves = 41,\n",
        "                         lambda_l2 =0.0705, \n",
        "                          feature_fraction = 0.6154918829220486, \n",
        "                          bagging_fraction= 0.6096119515891867, \n",
        "                          bagging_freq =1,\n",
        "                          min_data_in_leaf= 4, \n",
        "                         min_split_gain =0.0169,\n",
        "                         reg_alpha = 0.001,\n",
        "    )\n",
        "clf.fit(X_train_NLP_met, y_train_NLP_met)\n",
        "# predict the results\n",
        "y_pred=clf.predict(X_test_NLP_met)\n",
        "# view accuracy\n",
        "f1 = f1_score (y_test_NLP_met, y_pred, average='micro')\n",
        "print(\"F1 Score: {}\".format(f1))\n",
        "log = log.append(pd.DataFrame([['Text + Metadata', f1]], columns=log_cols))"
      ],
      "id": "THN3jRB_S1Nd"
    },
    {
      "cell_type": "code",
      "execution_count": null,
      "metadata": {
        "id": "UR5rp1JGS9eG"
      },
      "outputs": [],
      "source": [
        "X_lex_met =df_new[['author.public_metrics.listed_count', \n",
        "                   'author.public_metrics.followers_count', \n",
        "                   'author.public_metrics.tweet_count','account_duration', \n",
        "                   'day_name', 'source',\n",
        "              'mention_count', 'url_count', 'avg_length_words',\n",
        "                        'emoji_count', 'text_length', 'possibly_sensitive', 'check_hashtags',  'check_media'\t\n",
        "               ]]\n",
        "Y_lex_met = df['Engagement_Total_Class']\n",
        "X_train_lex_met, X_test_lex_met, y_train_lex_met, y_test_lex_met = train_test_split(X_lex_met, Y_lex_met, test_size=0.3, random_state=5346854)\n",
        "\n"
      ],
      "id": "UR5rp1JGS9eG"
    },
    {
      "cell_type": "code",
      "execution_count": null,
      "metadata": {
        "colab": {
          "base_uri": "https://localhost:8080/"
        },
        "id": "8r90Cwn9TIOY",
        "outputId": "4acbcafe-f64e-4903-dac0-875245840b79"
      },
      "outputs": [
        {
          "name": "stdout",
          "output_type": "stream",
          "text": [
            "F1 Score: 0.5841728719521098\n"
          ]
        }
      ],
      "source": [
        "clf = lgb.LGBMClassifier( n_estimators= 198,\n",
        "                          learning_rate = 0.05, \n",
        "                          num_leaves = 41,\n",
        "                         lambda_l2 =0.0705, \n",
        "                          feature_fraction = 0.6154918829220486, \n",
        "                          bagging_fraction= 0.6096119515891867, \n",
        "                          bagging_freq =1,\n",
        "                          min_data_in_leaf= 4, \n",
        "                         min_split_gain =0.0169,\n",
        "                         reg_alpha = 0.001,\n",
        "    )\n",
        "clf.fit(X_train_lex_met, y_train_lex_met)\n",
        "# predict the results\n",
        "y_pred=clf.predict(X_test_lex_met)\n",
        "# view accuracy\n",
        "f1 = f1_score (y_test_lex_met, y_pred, average='micro')\n",
        "print(\"F1 Score: {}\".format(f1))\n",
        "log = log.append(pd.DataFrame([['Tweet + Metadata', f1]], columns=log_cols))"
      ],
      "id": "8r90Cwn9TIOY"
    },
    {
      "cell_type": "code",
      "execution_count": null,
      "metadata": {
        "id": "jOV6-srITnvU"
      },
      "outputs": [],
      "source": [
        "X_all =df_new[['author.public_metrics.listed_count', \n",
        "                   'author.public_metrics.followers_count', \n",
        "                   'author.public_metrics.tweet_count','account_duration', \n",
        "                   'day_name', 'source',\n",
        "              'mention_count', 'url_count', 'avg_length_words',\n",
        "                        'emoji_count', 'text_length', 'possibly_sensitive', 'check_hashtags',  'check_media'\t,\n",
        "               'text_preprocessed_sentiment', \n",
        "                   'text_preprocessed_emotion_heading', 'flesch_reading', 'profanity_probability'\n",
        "               ]]\n",
        "Y_all = df['Engagement_Total_Class']\n",
        "X_train_all, X_test_all, y_train_all, y_test_all = train_test_split(X_all, Y_all, test_size=0.3, random_state=5346854)\n",
        "\n",
        "\n"
      ],
      "id": "jOV6-srITnvU"
    },
    {
      "cell_type": "code",
      "execution_count": null,
      "metadata": {
        "colab": {
          "base_uri": "https://localhost:8080/"
        },
        "id": "JERes5ZmT7l8",
        "outputId": "041102ac-5746-4aff-d99f-234807050cda"
      },
      "outputs": [
        {
          "name": "stdout",
          "output_type": "stream",
          "text": [
            "F1 Score: 0.5852679223244269\n"
          ]
        }
      ],
      "source": [
        "clf = lgb.LGBMClassifier( n_estimators= 198,\n",
        "                          learning_rate = 0.05, \n",
        "                          num_leaves = 41,\n",
        "                         lambda_l2 =0.0705, \n",
        "                          feature_fraction = 0.6154918829220486, \n",
        "                          bagging_fraction= 0.6096119515891867, \n",
        "                          bagging_freq =1,\n",
        "                          min_data_in_leaf= 4, \n",
        "                         min_split_gain =0.0169,\n",
        "                         reg_alpha = 0.001,\n",
        "    )\n",
        "clf.fit(X_train_all, y_train_all)\n",
        "# predict the results\n",
        "y_pred=clf.predict(X_test_all)\n",
        "# view accuracy\n",
        "f1 = f1_score (y_test_all, y_pred, average='micro')\n",
        "print(\"F1 Score: {}\".format(f1))\n",
        "\n",
        "log = log.append(pd.DataFrame([['Tweet + Text + Metadata', f1]], columns=log_cols))"
      ],
      "id": "JERes5ZmT7l8"
    },
    {
      "cell_type": "code",
      "execution_count": null,
      "metadata": {
        "colab": {
          "base_uri": "https://localhost:8080/",
          "height": 718
        },
        "id": "dc5zgWPLV7o8",
        "outputId": "45caf1e2-6a28-4e20-f2ac-a247bb7058a7"
      },
      "outputs": [
        {
          "data": {
            "application/javascript": [
              "\n",
              "    async function download(id, filename, size) {\n",
              "      if (!google.colab.kernel.accessAllowed) {\n",
              "        return;\n",
              "      }\n",
              "      const div = document.createElement('div');\n",
              "      const label = document.createElement('label');\n",
              "      label.textContent = `Downloading \"${filename}\": `;\n",
              "      div.appendChild(label);\n",
              "      const progress = document.createElement('progress');\n",
              "      progress.max = size;\n",
              "      div.appendChild(progress);\n",
              "      document.body.appendChild(div);\n",
              "\n",
              "      const buffers = [];\n",
              "      let downloaded = 0;\n",
              "\n",
              "      const channel = await google.colab.kernel.comms.open(id);\n",
              "      // Send a message to notify the kernel that we're ready.\n",
              "      channel.send({})\n",
              "\n",
              "      for await (const message of channel.messages) {\n",
              "        // Send a message to notify the kernel that we're ready.\n",
              "        channel.send({})\n",
              "        if (message.buffers) {\n",
              "          for (const buffer of message.buffers) {\n",
              "            buffers.push(buffer);\n",
              "            downloaded += buffer.byteLength;\n",
              "            progress.value = downloaded;\n",
              "          }\n",
              "        }\n",
              "      }\n",
              "      const blob = new Blob(buffers, {type: 'application/binary'});\n",
              "      const a = document.createElement('a');\n",
              "      a.href = window.URL.createObjectURL(blob);\n",
              "      a.download = filename;\n",
              "      div.appendChild(a);\n",
              "      a.click();\n",
              "      div.remove();\n",
              "    }\n",
              "  "
            ],
            "text/plain": [
              "<IPython.core.display.Javascript object>"
            ]
          },
          "metadata": {},
          "output_type": "display_data"
        },
        {
          "data": {
            "application/javascript": [
              "download(\"download_2b62cac9-8e80-4e5f-9ab2-cdefe9e03c19\", \"feature_sets.pdf\", 14720)"
            ],
            "text/plain": [
              "<IPython.core.display.Javascript object>"
            ]
          },
          "metadata": {},
          "output_type": "display_data"
        },
        {
          "data": {
            "image/png": "[encoded data removed]",
            "text/plain": [
              "<Figure size 1200x800 with 1 Axes>"
            ]
          },
          "metadata": {},
          "output_type": "display_data"
        }
      ],
      "source": [
        "log.reset_index(drop=True)\n",
        "log.sort_values('F1 Score',inplace=True)\n",
        "from google.colab import files\n",
        "import seaborn as sns\n",
        "import matplotlib.pyplot as plt\n",
        "import math\n",
        "plt.rcdefaults()\n",
        "fig, ax = plt.subplots(figsize=(12,8))\n",
        "\n",
        "g = (log['F1 Score'].plot.barh(\n",
        "                     ax=ax)\n",
        ")\n",
        "ax.set_yticklabels(log['Feature Group'])\n",
        "ax.set_xlim(0, 0.7)\n",
        "\n",
        "for i, v in enumerate(log['F1 Score']):\n",
        "    plt.text(v+0.010, i, str(round(v, 4)), color='steelblue', va=\"center\")\n",
        "\n",
        "\n",
        "plt.xlabel('F1 Score')\n",
        "plt.ylabel('Feature Sets')\n",
        "plt.title('LightGBM F1 Scores with Different Feature Sets')\n",
        "plt.savefig(\"feature_sets.pdf\", bbox_inches='tight')\n",
        "files.download(\"feature_sets.pdf\")\n",
        "plt.show()"
      ],
      "id": "dc5zgWPLV7o8"
    },
    {
      "cell_type": "markdown",
      "metadata": {
        "id": "c720ea8c"
      },
      "source": [
        "# Catboost"
      ],
      "id": "c720ea8c"
    },
    {
      "cell_type": "code",
      "execution_count": null,
      "metadata": {
        "colab": {
          "base_uri": "https://localhost:8080/"
        },
        "id": "e62a9ba3",
        "outputId": "281ddfab-f3bc-412a-c12b-98c4c48e7469",
        "scrolled": true
      },
      "outputs": [
        {
          "name": "stdout",
          "output_type": "stream",
          "text": [
            "Looking in indexes: https://pypi.org/simple, https://us-python.pkg.dev/colab-wheels/public/simple/\n",
            "Requirement already satisfied: CatBoost in /usr/local/lib/python3.7/dist-packages (1.0.6)\n",
            "Requirement already satisfied: matplotlib in /usr/local/lib/python3.7/dist-packages (from CatBoost) (3.2.2)\n",
            "Requirement already satisfied: graphviz in /usr/local/lib/python3.7/dist-packages (from CatBoost) (0.10.1)\n",
            "Requirement already satisfied: pandas>=0.24.0 in /usr/local/lib/python3.7/dist-packages (from CatBoost) (1.3.5)\n",
            "Requirement already satisfied: numpy>=1.16.0 in /usr/local/lib/python3.7/dist-packages (from CatBoost) (1.21.6)\n",
            "Requirement already satisfied: scipy in /usr/local/lib/python3.7/dist-packages (from CatBoost) (1.4.1)\n",
            "Requirement already satisfied: six in /usr/local/lib/python3.7/dist-packages (from CatBoost) (1.15.0)\n",
            "Requirement already satisfied: plotly in /usr/local/lib/python3.7/dist-packages (from CatBoost) (5.5.0)\n",
            "Requirement already satisfied: python-dateutil>=2.7.3 in /usr/local/lib/python3.7/dist-packages (from pandas>=0.24.0->CatBoost) (2.8.2)\n",
            "Requirement already satisfied: pytz>=2017.3 in /usr/local/lib/python3.7/dist-packages (from pandas>=0.24.0->CatBoost) (2022.1)\n",
            "Requirement already satisfied: kiwisolver>=1.0.1 in /usr/local/lib/python3.7/dist-packages (from matplotlib->CatBoost) (1.4.2)\n",
            "Requirement already satisfied: cycler>=0.10 in /usr/local/lib/python3.7/dist-packages (from matplotlib->CatBoost) (0.11.0)\n",
            "Requirement already satisfied: pyparsing!=2.0.4,!=2.1.2,!=2.1.6,>=2.0.1 in /usr/local/lib/python3.7/dist-packages (from matplotlib->CatBoost) (3.0.9)\n",
            "Requirement already satisfied: typing-extensions in /usr/local/lib/python3.7/dist-packages (from kiwisolver>=1.0.1->matplotlib->CatBoost) (4.2.0)\n",
            "Requirement already satisfied: tenacity>=6.2.0 in /usr/local/lib/python3.7/dist-packages (from plotly->CatBoost) (8.0.1)\n"
          ]
        }
      ],
      "source": [
        "!pip install CatBoost\n",
        "from catboost import CatBoostClassifier"
      ],
      "id": "e62a9ba3"
    },
    {
      "cell_type": "code",
      "execution_count": null,
      "metadata": {
        "id": "cd909f7e"
      },
      "outputs": [],
      "source": [
        "from sklearn.model_selection import GridSearchCV\n",
        "from catboost import CatBoostClassifier"
      ],
      "id": "cd909f7e"
    },
    {
      "cell_type": "code",
      "execution_count": null,
      "metadata": {
        "id": "59448834"
      },
      "outputs": [],
      "source": [
        "CBC = CatBoostClassifier()\n",
        "parameters = {'depth'         : [7,8,9, 10],\n",
        "                 'learning_rate' : [0.01,0.05, 0.07, 0.09],\n",
        "                  'iterations'    : [100]\n",
        "             # 'loss_function' :  ['f1_score']\n",
        "                 }"
      ],
      "id": "59448834"
    },
    {
      "cell_type": "code",
      "execution_count": null,
      "metadata": {
        "id": "VE61ejf1DajA"
      },
      "outputs": [],
      "source": [
        "Grid_CBC = GridSearchCV(estimator=CBC, param_grid = parameters, cv = 5)\n",
        "Grid_CBC.fit(X_train, y_train)\n",
        "print(\" Results from Grid Search \" )\n",
        "print(\"\\n The best estimator across ALL searched params:\\n\",Grid_CBC.best_estimator_)\n",
        "print(\"\\n The best score across ALL searched params:\\n\",Grid_CBC.best_score_)\n",
        "print(\"\\n The best parameters across ALL searched params:\\n\",Grid_CBC.best_params_)"
      ],
      "id": "VE61ejf1DajA"
    },
    {
      "cell_type": "code",
      "execution_count": null,
      "metadata": {
        "id": "95ac0664"
      },
      "outputs": [],
      "source": [
        "Grid_CBC = GridSearchCV(estimator=CBC, param_grid = parameters, cv = 5)\n",
        "Grid_CBC.fit(X_train, y_train)\n",
        "print(\" Results from Grid Search \" )\n",
        "print(\"\\n The best estimator across ALL searched params:\\n\",Grid_CBC.best_estimator_)\n",
        "print(\"\\n The best score across ALL searched params:\\n\",Grid_CBC.best_score_)\n",
        "print(\"\\n The best parameters across ALL searched params:\\n\",Grid_CBC.best_params_)"
      ],
      "id": "95ac0664"
    },
    {
      "cell_type": "code",
      "execution_count": null,
      "metadata": {
        "id": "S9R0A-e-h8c7"
      },
      "outputs": [],
      "source": [
        "def objective(trial):\n",
        "    \n",
        "    params = {'iterations':trial.suggest_int(\"iterations\", 100, 500),\n",
        "              #'od_wait':trial.suggest_int('od_wait', 500, 3200),\n",
        "             'loss_function':'MultiClass',\n",
        "              'eval_metric':'TotalF1',\n",
        "              'leaf_estimation_method':'Newton',\n",
        "              'bootstrap_type': 'Bernoulli',\n",
        "              'learning_rate' : trial.suggest_uniform('learning_rate',0.01,0.5),\n",
        "              'reg_lambda': trial.suggest_uniform('reg_lambda',1e-5,100),\n",
        "              #'subsample': trial.suggest_uniform('subsample',0,1),\n",
        "              #'random_strength': trial.suggest_uniform('random_strength',10,30),\n",
        "              'depth': trial.suggest_int('depth',1,10),\n",
        "              'min_data_in_leaf': trial.suggest_int('min_data_in_leaf',1,30),\n",
        "              'leaf_estimation_iterations': trial.suggest_int('leaf_estimation_iterations',1,8),\n",
        "               }\n",
        "    model = CatBoostClassifier(**params)  \n",
        "    model.fit(X_train,y_train,eval_set=[(X_test,y_test)],early_stopping_rounds=100,verbose=False)\n",
        "        \n",
        "    y_preds = model.predict(X_test)\n",
        "\n",
        "\n",
        "    f1 = f1_score(y_test, y_preds, average= 'micro')\n",
        "    \n",
        "    return f1"
      ],
      "id": "S9R0A-e-h8c7"
    },
    {
      "cell_type": "code",
      "execution_count": null,
      "metadata": {
        "colab": {
          "base_uri": "https://localhost:8080/"
        },
        "id": "-mAEZ2ZVonMG",
        "outputId": "d38308f0-41e5-46f2-8fd5-82f6777fae87"
      },
      "outputs": [
        {
          "name": "stdout",
          "output_type": "stream",
          "text": [
            "Number of finished trials: 24\n",
            "Best trial:\n",
            "  Value: 0.5859614542268944\n",
            "  Params: \n",
            "    iterations: 389\n",
            "    od_wait: 1996\n",
            "    learning_rate: 0.1477165986570529\n",
            "    reg_lambda: 56.499561470376044\n",
            "    random_strength: 24.928946670296153\n",
            "    depth: 5\n",
            "    min_data_in_leaf: 18\n",
            "    leaf_estimation_iterations: 5\n"
          ]
        }
      ],
      "source": [
        "if __name__ == \"__main__\":\n",
        "    study = optuna.create_study(direction=\"maximize\")\n",
        "    study.optimize(objective, n_trials=100, timeout=600)\n",
        "\n",
        "    print(\"Number of finished trials: {}\".format(len(study.trials)))\n",
        "\n",
        "    print(\"Best trial:\")\n",
        "    trial = study.best_trial\n",
        "\n",
        "    print(\"  Value: {}\".format(trial.value))\n",
        "\n",
        "    print(\"  Params: \")\n",
        "    for key, value in trial.params.items():\n",
        "        print(\"    {}: {}\".format(key, value))\n"
      ],
      "id": "-mAEZ2ZVonMG"
    },
    {
      "cell_type": "code",
      "execution_count": null,
      "metadata": {
        "colab": {
          "base_uri": "https://localhost:8080/",
          "height": 542
        },
        "id": "MsffiHOQtmlR",
        "outputId": "0ad0ef27-62a5-4ba4-bca8-4e3719eba86c"
      },
      "outputs": [
        {
          "data": {
            "text/html": [
              "<html>\n",
              "<head><meta charset=\"utf-8\" /></head>\n",
              "<body>\n",
              "    <div>            <script src=\"https://cdnjs.cloudflare.com/ajax/libs/mathjax/2.7.5/MathJax.js?config=TeX-AMS-MML_SVG\"></script><script type=\"text/javascript\">if (window.MathJax) {MathJax.Hub.Config({SVG: {font: \"STIX-Web\"}});}</script>                <script type=\"text/javascript\">window.PlotlyConfig = {MathJaxConfig: 'local'};</script>\n",
              "        <script src=\"https://cdn.plot.ly/plotly-2.4.2.min.js\"></script>                <div id=\"53fbc6c7-03f3-4a31-8985-2cc9ef1283ed\" class=\"plotly-graph-div\" style=\"height:525px; width:100%;\"></div>            <script type=\"text/javascript\">                                    window.PLOTLYENV=window.PLOTLYENV || {};                                    if (document.getElementById(\"53fbc6c7-03f3-4a31-8985-2cc9ef1283ed\")) {                    Plotly.newPlot(                        \"53fbc6c7-03f3-4a31-8985-2cc9ef1283ed\",                        [{\"mode\":\"markers\",\"name\":\"Objective Value\",\"type\":\"scatter\",\"x\":[0,1,2,3,4,5,6,7,8,9,10,11,12,13,14,15,16,17,18,19,20,21,22,23],\"y\":[0.5833698350124106,0.5799751788582275,0.5727843480800117,0.581143232588699,0.5849394072127317,0.5664695575996496,0.5637319316688568,0.576069499196963,0.584355380347496,0.578369104978829,0.5808512191560812,0.5854504307198131,0.5836618484450284,0.582201781281939,0.5830778215797927,0.5830413199007154,0.5828588115053293,0.5802306906117681,0.5826032997517886,0.5787341217696014,0.580814717477004,0.5859614542268944,0.5846838954591911,0.5858154475105855]},{\"name\":\"Best Value\",\"type\":\"scatter\",\"x\":[0,1,2,3,4,5,6,7,8,9,10,11,12,13,14,15,16,17,18,19,20,21,22,23],\"y\":[0.5833698350124106,0.5833698350124106,0.5833698350124106,0.5833698350124106,0.5849394072127317,0.5849394072127317,0.5849394072127317,0.5849394072127317,0.5849394072127317,0.5849394072127317,0.5849394072127317,0.5854504307198131,0.5854504307198131,0.5854504307198131,0.5854504307198131,0.5854504307198131,0.5854504307198131,0.5854504307198131,0.5854504307198131,0.5854504307198131,0.5854504307198131,0.5859614542268944,0.5859614542268944,0.5859614542268944]}],                        {\"template\":{\"data\":{\"bar\":[{\"error_x\":{\"color\":\"#2a3f5f\"},\"error_y\":{\"color\":\"#2a3f5f\"},\"marker\":{\"line\":{\"color\":\"#E5ECF6\",\"width\":0.5},\"pattern\":{\"fillmode\":\"overlay\",\"size\":10,\"solidity\":0.2}},\"type\":\"bar\"}],\"barpolar\":[{\"marker\":{\"line\":{\"color\":\"#E5ECF6\",\"width\":0.5},\"pattern\":{\"fillmode\":\"overlay\",\"size\":10,\"solidity\":0.2}},\"type\":\"barpolar\"}],\"carpet\":[{\"aaxis\":{\"endlinecolor\":\"#2a3f5f\",\"gridcolor\":\"white\",\"linecolor\":\"white\",\"minorgridcolor\":\"white\",\"startlinecolor\":\"#2a3f5f\"},\"baxis\":{\"endlinecolor\":\"#2a3f5f\",\"gridcolor\":\"white\",\"linecolor\":\"white\",\"minorgridcolor\":\"white\",\"startlinecolor\":\"#2a3f5f\"},\"type\":\"carpet\"}],\"choropleth\":[{\"colorbar\":{\"outlinewidth\":0,\"ticks\":\"\"},\"type\":\"choropleth\"}],\"contour\":[{\"colorbar\":{\"outlinewidth\":0,\"ticks\":\"\"},\"colorscale\":[[0.0,\"#0d0887\"],[0.1111111111111111,\"#46039f\"],[0.2222222222222222,\"#7201a8\"],[0.3333333333333333,\"#9c179e\"],[0.4444444444444444,\"#bd3786\"],[0.5555555555555556,\"#d8576b\"],[0.6666666666666666,\"#ed7953\"],[0.7777777777777778,\"#fb9f3a\"],[0.8888888888888888,\"#fdca26\"],[1.0,\"#f0f921\"]],\"type\":\"contour\"}],\"contourcarpet\":[{\"colorbar\":{\"outlinewidth\":0,\"ticks\":\"\"},\"type\":\"contourcarpet\"}],\"heatmap\":[{\"colorbar\":{\"outlinewidth\":0,\"ticks\":\"\"},\"colorscale\":[[0.0,\"#0d0887\"],[0.1111111111111111,\"#46039f\"],[0.2222222222222222,\"#7201a8\"],[0.3333333333333333,\"#9c179e\"],[0.4444444444444444,\"#bd3786\"],[0.5555555555555556,\"#d8576b\"],[0.6666666666666666,\"#ed7953\"],[0.7777777777777778,\"#fb9f3a\"],[0.8888888888888888,\"#fdca26\"],[1.0,\"#f0f921\"]],\"type\":\"heatmap\"}],\"heatmapgl\":[{\"colorbar\":{\"outlinewidth\":0,\"ticks\":\"\"},\"colorscale\":[[0.0,\"#0d0887\"],[0.1111111111111111,\"#46039f\"],[0.2222222222222222,\"#7201a8\"],[0.3333333333333333,\"#9c179e\"],[0.4444444444444444,\"#bd3786\"],[0.5555555555555556,\"#d8576b\"],[0.6666666666666666,\"#ed7953\"],[0.7777777777777778,\"#fb9f3a\"],[0.8888888888888888,\"#fdca26\"],[1.0,\"#f0f921\"]],\"type\":\"heatmapgl\"}],\"histogram\":[{\"marker\":{\"pattern\":{\"fillmode\":\"overlay\",\"size\":10,\"solidity\":0.2}},\"type\":\"histogram\"}],\"histogram2d\":[{\"colorbar\":{\"outlinewidth\":0,\"ticks\":\"\"},\"colorscale\":[[0.0,\"#0d0887\"],[0.1111111111111111,\"#46039f\"],[0.2222222222222222,\"#7201a8\"],[0.3333333333333333,\"#9c179e\"],[0.4444444444444444,\"#bd3786\"],[0.5555555555555556,\"#d8576b\"],[0.6666666666666666,\"#ed7953\"],[0.7777777777777778,\"#fb9f3a\"],[0.8888888888888888,\"#fdca26\"],[1.0,\"#f0f921\"]],\"type\":\"histogram2d\"}],\"histogram2dcontour\":[{\"colorbar\":{\"outlinewidth\":0,\"ticks\":\"\"},\"colorscale\":[[0.0,\"#0d0887\"],[0.1111111111111111,\"#46039f\"],[0.2222222222222222,\"#7201a8\"],[0.3333333333333333,\"#9c179e\"],[0.4444444444444444,\"#bd3786\"],[0.5555555555555556,\"#d8576b\"],[0.6666666666666666,\"#ed7953\"],[0.7777777777777778,\"#fb9f3a\"],[0.8888888888888888,\"#fdca26\"],[1.0,\"#f0f921\"]],\"type\":\"histogram2dcontour\"}],\"mesh3d\":[{\"colorbar\":{\"outlinewidth\":0,\"ticks\":\"\"},\"type\":\"mesh3d\"}],\"parcoords\":[{\"line\":{\"colorbar\":{\"outlinewidth\":0,\"ticks\":\"\"}},\"type\":\"parcoords\"}],\"pie\":[{\"automargin\":true,\"type\":\"pie\"}],\"scatter\":[{\"marker\":{\"colorbar\":{\"outlinewidth\":0,\"ticks\":\"\"}},\"type\":\"scatter\"}],\"scatter3d\":[{\"line\":{\"colorbar\":{\"outlinewidth\":0,\"ticks\":\"\"}},\"marker\":{\"colorbar\":{\"outlinewidth\":0,\"ticks\":\"\"}},\"type\":\"scatter3d\"}],\"scattercarpet\":[{\"marker\":{\"colorbar\":{\"outlinewidth\":0,\"ticks\":\"\"}},\"type\":\"scattercarpet\"}],\"scattergeo\":[{\"marker\":{\"colorbar\":{\"outlinewidth\":0,\"ticks\":\"\"}},\"type\":\"scattergeo\"}],\"scattergl\":[{\"marker\":{\"colorbar\":{\"outlinewidth\":0,\"ticks\":\"\"}},\"type\":\"scattergl\"}],\"scattermapbox\":[{\"marker\":{\"colorbar\":{\"outlinewidth\":0,\"ticks\":\"\"}},\"type\":\"scattermapbox\"}],\"scatterpolar\":[{\"marker\":{\"colorbar\":{\"outlinewidth\":0,\"ticks\":\"\"}},\"type\":\"scatterpolar\"}],\"scatterpolargl\":[{\"marker\":{\"colorbar\":{\"outlinewidth\":0,\"ticks\":\"\"}},\"type\":\"scatterpolargl\"}],\"scatterternary\":[{\"marker\":{\"colorbar\":{\"outlinewidth\":0,\"ticks\":\"\"}},\"type\":\"scatterternary\"}],\"surface\":[{\"colorbar\":{\"outlinewidth\":0,\"ticks\":\"\"},\"colorscale\":[[0.0,\"#0d0887\"],[0.1111111111111111,\"#46039f\"],[0.2222222222222222,\"#7201a8\"],[0.3333333333333333,\"#9c179e\"],[0.4444444444444444,\"#bd3786\"],[0.5555555555555556,\"#d8576b\"],[0.6666666666666666,\"#ed7953\"],[0.7777777777777778,\"#fb9f3a\"],[0.8888888888888888,\"#fdca26\"],[1.0,\"#f0f921\"]],\"type\":\"surface\"}],\"table\":[{\"cells\":{\"fill\":{\"color\":\"#EBF0F8\"},\"line\":{\"color\":\"white\"}},\"header\":{\"fill\":{\"color\":\"#C8D4E3\"},\"line\":{\"color\":\"white\"}},\"type\":\"table\"}]},\"layout\":{\"annotationdefaults\":{\"arrowcolor\":\"#2a3f5f\",\"arrowhead\":0,\"arrowwidth\":1},\"autotypenumbers\":\"strict\",\"coloraxis\":{\"colorbar\":{\"outlinewidth\":0,\"ticks\":\"\"}},\"colorscale\":{\"diverging\":[[0,\"#8e0152\"],[0.1,\"#c51b7d\"],[0.2,\"#de77ae\"],[0.3,\"#f1b6da\"],[0.4,\"#fde0ef\"],[0.5,\"#f7f7f7\"],[0.6,\"#e6f5d0\"],[0.7,\"#b8e186\"],[0.8,\"#7fbc41\"],[0.9,\"#4d9221\"],[1,\"#276419\"]],\"sequential\":[[0.0,\"#0d0887\"],[0.1111111111111111,\"#46039f\"],[0.2222222222222222,\"#7201a8\"],[0.3333333333333333,\"#9c179e\"],[0.4444444444444444,\"#bd3786\"],[0.5555555555555556,\"#d8576b\"],[0.6666666666666666,\"#ed7953\"],[0.7777777777777778,\"#fb9f3a\"],[0.8888888888888888,\"#fdca26\"],[1.0,\"#f0f921\"]],\"sequentialminus\":[[0.0,\"#0d0887\"],[0.1111111111111111,\"#46039f\"],[0.2222222222222222,\"#7201a8\"],[0.3333333333333333,\"#9c179e\"],[0.4444444444444444,\"#bd3786\"],[0.5555555555555556,\"#d8576b\"],[0.6666666666666666,\"#ed7953\"],[0.7777777777777778,\"#fb9f3a\"],[0.8888888888888888,\"#fdca26\"],[1.0,\"#f0f921\"]]},\"colorway\":[\"#636efa\",\"#EF553B\",\"#00cc96\",\"#ab63fa\",\"#FFA15A\",\"#19d3f3\",\"#FF6692\",\"#B6E880\",\"#FF97FF\",\"#FECB52\"],\"font\":{\"color\":\"#2a3f5f\"},\"geo\":{\"bgcolor\":\"white\",\"lakecolor\":\"white\",\"landcolor\":\"#E5ECF6\",\"showlakes\":true,\"showland\":true,\"subunitcolor\":\"white\"},\"hoverlabel\":{\"align\":\"left\"},\"hovermode\":\"closest\",\"mapbox\":{\"style\":\"light\"},\"paper_bgcolor\":\"white\",\"plot_bgcolor\":\"#E5ECF6\",\"polar\":{\"angularaxis\":{\"gridcolor\":\"white\",\"linecolor\":\"white\",\"ticks\":\"\"},\"bgcolor\":\"#E5ECF6\",\"radialaxis\":{\"gridcolor\":\"white\",\"linecolor\":\"white\",\"ticks\":\"\"}},\"scene\":{\"xaxis\":{\"backgroundcolor\":\"#E5ECF6\",\"gridcolor\":\"white\",\"gridwidth\":2,\"linecolor\":\"white\",\"showbackground\":true,\"ticks\":\"\",\"zerolinecolor\":\"white\"},\"yaxis\":{\"backgroundcolor\":\"#E5ECF6\",\"gridcolor\":\"white\",\"gridwidth\":2,\"linecolor\":\"white\",\"showbackground\":true,\"ticks\":\"\",\"zerolinecolor\":\"white\"},\"zaxis\":{\"backgroundcolor\":\"#E5ECF6\",\"gridcolor\":\"white\",\"gridwidth\":2,\"linecolor\":\"white\",\"showbackground\":true,\"ticks\":\"\",\"zerolinecolor\":\"white\"}},\"shapedefaults\":{\"line\":{\"color\":\"#2a3f5f\"}},\"ternary\":{\"aaxis\":{\"gridcolor\":\"white\",\"linecolor\":\"white\",\"ticks\":\"\"},\"baxis\":{\"gridcolor\":\"white\",\"linecolor\":\"white\",\"ticks\":\"\"},\"bgcolor\":\"#E5ECF6\",\"caxis\":{\"gridcolor\":\"white\",\"linecolor\":\"white\",\"ticks\":\"\"}},\"title\":{\"x\":0.05},\"xaxis\":{\"automargin\":true,\"gridcolor\":\"white\",\"linecolor\":\"white\",\"ticks\":\"\",\"title\":{\"standoff\":15},\"zerolinecolor\":\"white\",\"zerolinewidth\":2},\"yaxis\":{\"automargin\":true,\"gridcolor\":\"white\",\"linecolor\":\"white\",\"ticks\":\"\",\"title\":{\"standoff\":15},\"zerolinecolor\":\"white\",\"zerolinewidth\":2}}},\"title\":{\"text\":\"Optimization History Plot\"},\"xaxis\":{\"title\":{\"text\":\"#Trials\"}},\"yaxis\":{\"title\":{\"text\":\"Objective Value\"}}},                        {\"responsive\": true}                    ).then(function(){\n",
              "                            \n",
              "var gd = document.getElementById('53fbc6c7-03f3-4a31-8985-2cc9ef1283ed');\n",
              "var x = new MutationObserver(function (mutations, observer) {{\n",
              "        var display = window.getComputedStyle(gd).display;\n",
              "        if (!display || display === 'none') {{\n",
              "            console.log([gd, 'removed!']);\n",
              "            Plotly.purge(gd);\n",
              "            observer.disconnect();\n",
              "        }}\n",
              "}});\n",
              "\n",
              "// Listen for the removal of the full notebook cells\n",
              "var notebookContainer = gd.closest('#notebook-container');\n",
              "if (notebookContainer) {{\n",
              "    x.observe(notebookContainer, {childList: true});\n",
              "}}\n",
              "\n",
              "// Listen for the clearing of the current output cell\n",
              "var outputEl = gd.closest('.output');\n",
              "if (outputEl) {{\n",
              "    x.observe(outputEl, {childList: true});\n",
              "}}\n",
              "\n",
              "                        })                };                            </script>        </div>\n",
              "</body>\n",
              "</html>"
            ]
          },
          "metadata": {},
          "output_type": "display_data"
        }
      ],
      "source": [
        "optuna.visualization.plot_optimization_history(study)"
      ],
      "id": "MsffiHOQtmlR"
    },
    {
      "cell_type": "code",
      "execution_count": null,
      "metadata": {
        "id": "v9oXP2uYm7hz"
      },
      "outputs": [],
      "source": [
        "cat_model = CatBoostClassifier( \n",
        "    iterations= 389,\n",
        "    #od_wait= 1996,\n",
        "    learning_rate= 0.1,\n",
        "    reg_lambda= 56.499561470376044,\n",
        "    depth= 5,\n",
        "    #min_data_in_leaf= 18,\n",
        "    leaf_estimation_iterations= 5,\n",
        "    eval_metric = \"TotalF1\",\n",
        "    random_state =42\n",
        "                                                          )\n",
        "#1.06025346 2.2145116 1.7237214, 0.49379734\n",
        "cat_model.fit(X_train, y_train)\n",
        "\n",
        "#predict on test set\n",
        "test_predictions = cat_model.predict(X_test)\n",
        "\n",
        "print( f1_score(y_test, test_predictions, average= 'micro') )\n",
        "#calculate test score\n",
        "#cat_y_test = [(x) for x in y_test]\n",
        "#score = cat_model.score(X_test, list(cat_y_test))\n",
        "#print(score)\n",
        "\n",
        "#irony ile 0.53579 dan 0.5376ya yükseldi \n",
        "#0.5741145605596851den  0.5784324442501093 yüksel permutation ile\n",
        "#'depth': 8, 'iterations': 700, 'learning_rate': 0.03\n",
        "#depth = 8, iterations = 500, learning_rate = 0.04"
      ],
      "id": "v9oXP2uYm7hz"
    },
    {
      "cell_type": "code",
      "execution_count": null,
      "metadata": {
        "id": "io28en-f_yog"
      },
      "outputs": [],
      "source": [
        "# Installing the most recent version of skopt directly from Github\n",
        "!pip install git+https://github.com/scikit-optimize/scikit-optimize.git"
      ],
      "id": "io28en-f_yog"
    },
    {
      "cell_type": "code",
      "execution_count": null,
      "metadata": {
        "id": "Ky6AmUQtIC6p"
      },
      "outputs": [],
      "source": [
        "cat_model = CatBoostClassifier(  depth = 7,  learning_rate = 0.09,\n",
        "                               eval_metric = \"TotalF1\"\n",
        "                              # class_weights = {'None': 0.49379734, 'Low': 1.06025346, 'Moderate': 1.7237214, 'High' :2.2145116}\n",
        "                               )\n",
        "#1.06025346 2.2145116 1.7237214, 0.49379734\n",
        "cat_model.fit(X_train, y_train)\n",
        "\n",
        "#predict on test set\n",
        "test_predictions = cat_model.predict(X_test)\n",
        "\n",
        "\n",
        "#calculate test score\n",
        "cat_y_test = [(x) for x in y_test]\n",
        "score = cat_model.score(X_test, list(cat_y_test))\n",
        "print(score)\n",
        "\n",
        "#irony ile 0.53579 dan 0.5376ya yükseldi \n",
        "#0.5741145605596851den  0.5784324442501093 yüksel permutation ile\n",
        "#'depth': 8, 'iterations': 700, 'learning_rate': 0.03\n",
        "#depth = 8, iterations = 500, learning_rate = 0.04"
      ],
      "id": "Ky6AmUQtIC6p"
    },
    {
      "cell_type": "code",
      "execution_count": null,
      "metadata": {
        "id": "o_tUNZ2SGCWG"
      },
      "outputs": [],
      "source": [
        "    from sklearn.metrics import classification_report, confusion_matrix\n",
        "\n",
        "    class_names = df.Engagement_Total_Class.unique()\n",
        "    print(classification_report(y_test, test_predictions, target_names=class_names))\n",
        "\n",
        "    print(confusion_matrix(y_test, test_predictions))"
      ],
      "id": "o_tUNZ2SGCWG"
    },
    {
      "cell_type": "code",
      "execution_count": null,
      "metadata": {
        "id": "19717950"
      },
      "outputs": [],
      "source": [
        "from sklearn.utils import class_weight\n",
        "from sklearn.utils.class_weight import compute_class_weight\n",
        "class_weights = compute_class_weight(class_weight = \"balanced\", classes= np.unique(Y), y= Y)"
      ],
      "id": "19717950"
    },
    {
      "cell_type": "markdown",
      "metadata": {
        "id": "s6tn9c6oDcaP"
      },
      "source": [
        "# XGBOOST"
      ],
      "id": "s6tn9c6oDcaP"
    },
    {
      "cell_type": "code",
      "execution_count": null,
      "metadata": {
        "id": "fCmlp-r4DfXm"
      },
      "outputs": [],
      "source": [
        "def objective2(trial):\n",
        "    \n",
        "    params = {'iterations':trial.suggest_int(\"iterations\", 100, 500),\n",
        "              'n_estimators': trial.suggest_int(\"n_estimators\", 50, 200),\n",
        "              'num_leaves':trial.suggest_int('num_leaves', 20, 150),\n",
        "             'loss_function':'MultiClass',\n",
        "              'leaf_estimation_method':'Newton',\n",
        "              'bootstrap_type': 'Bernoulli',\n",
        "              'learning_rate' : trial.suggest_uniform('learning_rate',0.01,0.2),\n",
        "              'lambda_l2': trial.suggest_uniform('reg_lambda',0,1),\n",
        "              'feature_fraction': trial.suggest_uniform('feature_fraction',0,1),\n",
        "              'bagging_fraction': trial.suggest_uniform('bagging_fraction',0,1),\n",
        "              #'subsample': trial.suggest_uniform('subsample',0,1),\n",
        "              #'random_strength': trial.suggest_uniform('random_strength',10,30),\n",
        "              'bagging_freq': trial.suggest_int('bagging_freq',1,10),\n",
        "              'min_data_in_leaf': trial.suggest_int('min_data_in_leaf',1,30),\n",
        "              'min_split_gain': trial.suggest_int('min_split_gain',0,2),\n",
        "              'reg_alpha': trial.suggest_int('reg_alpha',0,0.5),\n",
        "               }\n",
        "    model = XGBClassifier(**params)  \n",
        "    model.fit(X_train,y_train,eval_set=[(X_test,y_test)],early_stopping_rounds=100,verbose=False)\n",
        "        \n",
        "    y_preds = model.predict(X_test)\n",
        "\n",
        "\n",
        "    f1 = f1_score(y_test, y_preds, average= 'micro')\n",
        "    \n",
        "    return f1"
      ],
      "id": "fCmlp-r4DfXm"
    },
    {
      "cell_type": "code",
      "execution_count": null,
      "metadata": {
        "colab": {
          "base_uri": "https://localhost:8080/"
        },
        "id": "9vgT6X32DyXf",
        "outputId": "d39e48e5-021a-4188-d8ff-82669f44aa57"
      },
      "outputs": [
        {
          "name": "stdout",
          "output_type": "stream",
          "text": [
            "Number of finished trials: 18\n",
            "Best trial:\n",
            "  Value: 0.5830413199007154\n",
            "  Params: \n",
            "    iterations: 257\n",
            "    n_estimators: 196\n",
            "    num_leaves: 21\n",
            "    learning_rate: 0.1373372593055826\n",
            "    reg_lambda: 0.3425390605318015\n",
            "    feature_fraction: 0.1763991259677553\n",
            "    bagging_fraction: 0.34290928133157794\n",
            "    bagging_freq: 10\n",
            "    min_data_in_leaf: 5\n",
            "    min_split_gain: 0\n",
            "    reg_alpha: 0\n"
          ]
        }
      ],
      "source": [
        "if __name__ == \"__main__\":\n",
        "    study = optuna.create_study(direction=\"maximize\")\n",
        "    study.optimize(objective2, n_trials=100, timeout=600)\n",
        "\n",
        "    print(\"Number of finished trials: {}\".format(len(study.trials)))\n",
        "\n",
        "    print(\"Best trial:\")\n",
        "    trial = study.best_trial\n",
        "\n",
        "    print(\"  Value: {}\".format(trial.value))\n",
        "\n",
        "    print(\"  Params: \")\n",
        "    for key, value in trial.params.items():\n",
        "        print(\"    {}: {}\".format(key, value))"
      ],
      "id": "9vgT6X32DyXf"
    },
    {
      "cell_type": "code",
      "execution_count": null,
      "metadata": {
        "colab": {
          "base_uri": "https://localhost:8080/",
          "height": 542
        },
        "id": "2dXgv3bPHaF9",
        "outputId": "f0e0727d-1e55-407d-a44e-afeb4f336a2e"
      },
      "outputs": [
        {
          "data": {
            "text/html": [
              "<html>\n",
              "<head><meta charset=\"utf-8\" /></head>\n",
              "<body>\n",
              "    <div>            <script src=\"https://cdnjs.cloudflare.com/ajax/libs/mathjax/2.7.5/MathJax.js?config=TeX-AMS-MML_SVG\"></script><script type=\"text/javascript\">if (window.MathJax) {MathJax.Hub.Config({SVG: {font: \"STIX-Web\"}});}</script>                <script type=\"text/javascript\">window.PlotlyConfig = {MathJaxConfig: 'local'};</script>\n",
              "        <script src=\"https://cdn.plot.ly/plotly-2.4.2.min.js\"></script>                <div id=\"3c7a01a8-c398-4e1b-9b7a-6129322fd2f7\" class=\"plotly-graph-div\" style=\"height:525px; width:100%;\"></div>            <script type=\"text/javascript\">                                    window.PLOTLYENV=window.PLOTLYENV || {};                                    if (document.getElementById(\"3c7a01a8-c398-4e1b-9b7a-6129322fd2f7\")) {                    Plotly.newPlot(                        \"3c7a01a8-c398-4e1b-9b7a-6129322fd2f7\",                        [{\"mode\":\"markers\",\"name\":\"Objective Value\",\"type\":\"scatter\",\"x\":[0,1,2,3,4,5,6,7,8,9,10,11,12,13,14,15,16,17],\"y\":[0.5735143816615564,0.582201781281939,0.5491312600379618,0.5817637611330121,0.5790261352022193,0.5813622426631625,0.5782961016206746,0.5789166301649876,0.5767265294203533,0.5373777193750913,0.5733683749452475,0.5830413199007154,0.5816177544167032,0.5823477879982479,0.5813622426631625,0.5814717477003942,0.5819462695283983,0.5814717477003942]},{\"name\":\"Best Value\",\"type\":\"scatter\",\"x\":[0,1,2,3,4,5,6,7,8,9,10,11,12,13,14,15,16,17],\"y\":[0.5735143816615564,0.582201781281939,0.582201781281939,0.582201781281939,0.582201781281939,0.582201781281939,0.582201781281939,0.582201781281939,0.582201781281939,0.582201781281939,0.582201781281939,0.5830413199007154,0.5830413199007154,0.5830413199007154,0.5830413199007154,0.5830413199007154,0.5830413199007154,0.5830413199007154]}],                        {\"template\":{\"data\":{\"bar\":[{\"error_x\":{\"color\":\"#2a3f5f\"},\"error_y\":{\"color\":\"#2a3f5f\"},\"marker\":{\"line\":{\"color\":\"#E5ECF6\",\"width\":0.5},\"pattern\":{\"fillmode\":\"overlay\",\"size\":10,\"solidity\":0.2}},\"type\":\"bar\"}],\"barpolar\":[{\"marker\":{\"line\":{\"color\":\"#E5ECF6\",\"width\":0.5},\"pattern\":{\"fillmode\":\"overlay\",\"size\":10,\"solidity\":0.2}},\"type\":\"barpolar\"}],\"carpet\":[{\"aaxis\":{\"endlinecolor\":\"#2a3f5f\",\"gridcolor\":\"white\",\"linecolor\":\"white\",\"minorgridcolor\":\"white\",\"startlinecolor\":\"#2a3f5f\"},\"baxis\":{\"endlinecolor\":\"#2a3f5f\",\"gridcolor\":\"white\",\"linecolor\":\"white\",\"minorgridcolor\":\"white\",\"startlinecolor\":\"#2a3f5f\"},\"type\":\"carpet\"}],\"choropleth\":[{\"colorbar\":{\"outlinewidth\":0,\"ticks\":\"\"},\"type\":\"choropleth\"}],\"contour\":[{\"colorbar\":{\"outlinewidth\":0,\"ticks\":\"\"},\"colorscale\":[[0.0,\"#0d0887\"],[0.1111111111111111,\"#46039f\"],[0.2222222222222222,\"#7201a8\"],[0.3333333333333333,\"#9c179e\"],[0.4444444444444444,\"#bd3786\"],[0.5555555555555556,\"#d8576b\"],[0.6666666666666666,\"#ed7953\"],[0.7777777777777778,\"#fb9f3a\"],[0.8888888888888888,\"#fdca26\"],[1.0,\"#f0f921\"]],\"type\":\"contour\"}],\"contourcarpet\":[{\"colorbar\":{\"outlinewidth\":0,\"ticks\":\"\"},\"type\":\"contourcarpet\"}],\"heatmap\":[{\"colorbar\":{\"outlinewidth\":0,\"ticks\":\"\"},\"colorscale\":[[0.0,\"#0d0887\"],[0.1111111111111111,\"#46039f\"],[0.2222222222222222,\"#7201a8\"],[0.3333333333333333,\"#9c179e\"],[0.4444444444444444,\"#bd3786\"],[0.5555555555555556,\"#d8576b\"],[0.6666666666666666,\"#ed7953\"],[0.7777777777777778,\"#fb9f3a\"],[0.8888888888888888,\"#fdca26\"],[1.0,\"#f0f921\"]],\"type\":\"heatmap\"}],\"heatmapgl\":[{\"colorbar\":{\"outlinewidth\":0,\"ticks\":\"\"},\"colorscale\":[[0.0,\"#0d0887\"],[0.1111111111111111,\"#46039f\"],[0.2222222222222222,\"#7201a8\"],[0.3333333333333333,\"#9c179e\"],[0.4444444444444444,\"#bd3786\"],[0.5555555555555556,\"#d8576b\"],[0.6666666666666666,\"#ed7953\"],[0.7777777777777778,\"#fb9f3a\"],[0.8888888888888888,\"#fdca26\"],[1.0,\"#f0f921\"]],\"type\":\"heatmapgl\"}],\"histogram\":[{\"marker\":{\"pattern\":{\"fillmode\":\"overlay\",\"size\":10,\"solidity\":0.2}},\"type\":\"histogram\"}],\"histogram2d\":[{\"colorbar\":{\"outlinewidth\":0,\"ticks\":\"\"},\"colorscale\":[[0.0,\"#0d0887\"],[0.1111111111111111,\"#46039f\"],[0.2222222222222222,\"#7201a8\"],[0.3333333333333333,\"#9c179e\"],[0.4444444444444444,\"#bd3786\"],[0.5555555555555556,\"#d8576b\"],[0.6666666666666666,\"#ed7953\"],[0.7777777777777778,\"#fb9f3a\"],[0.8888888888888888,\"#fdca26\"],[1.0,\"#f0f921\"]],\"type\":\"histogram2d\"}],\"histogram2dcontour\":[{\"colorbar\":{\"outlinewidth\":0,\"ticks\":\"\"},\"colorscale\":[[0.0,\"#0d0887\"],[0.1111111111111111,\"#46039f\"],[0.2222222222222222,\"#7201a8\"],[0.3333333333333333,\"#9c179e\"],[0.4444444444444444,\"#bd3786\"],[0.5555555555555556,\"#d8576b\"],[0.6666666666666666,\"#ed7953\"],[0.7777777777777778,\"#fb9f3a\"],[0.8888888888888888,\"#fdca26\"],[1.0,\"#f0f921\"]],\"type\":\"histogram2dcontour\"}],\"mesh3d\":[{\"colorbar\":{\"outlinewidth\":0,\"ticks\":\"\"},\"type\":\"mesh3d\"}],\"parcoords\":[{\"line\":{\"colorbar\":{\"outlinewidth\":0,\"ticks\":\"\"}},\"type\":\"parcoords\"}],\"pie\":[{\"automargin\":true,\"type\":\"pie\"}],\"scatter\":[{\"marker\":{\"colorbar\":{\"outlinewidth\":0,\"ticks\":\"\"}},\"type\":\"scatter\"}],\"scatter3d\":[{\"line\":{\"colorbar\":{\"outlinewidth\":0,\"ticks\":\"\"}},\"marker\":{\"colorbar\":{\"outlinewidth\":0,\"ticks\":\"\"}},\"type\":\"scatter3d\"}],\"scattercarpet\":[{\"marker\":{\"colorbar\":{\"outlinewidth\":0,\"ticks\":\"\"}},\"type\":\"scattercarpet\"}],\"scattergeo\":[{\"marker\":{\"colorbar\":{\"outlinewidth\":0,\"ticks\":\"\"}},\"type\":\"scattergeo\"}],\"scattergl\":[{\"marker\":{\"colorbar\":{\"outlinewidth\":0,\"ticks\":\"\"}},\"type\":\"scattergl\"}],\"scattermapbox\":[{\"marker\":{\"colorbar\":{\"outlinewidth\":0,\"ticks\":\"\"}},\"type\":\"scattermapbox\"}],\"scatterpolar\":[{\"marker\":{\"colorbar\":{\"outlinewidth\":0,\"ticks\":\"\"}},\"type\":\"scatterpolar\"}],\"scatterpolargl\":[{\"marker\":{\"colorbar\":{\"outlinewidth\":0,\"ticks\":\"\"}},\"type\":\"scatterpolargl\"}],\"scatterternary\":[{\"marker\":{\"colorbar\":{\"outlinewidth\":0,\"ticks\":\"\"}},\"type\":\"scatterternary\"}],\"surface\":[{\"colorbar\":{\"outlinewidth\":0,\"ticks\":\"\"},\"colorscale\":[[0.0,\"#0d0887\"],[0.1111111111111111,\"#46039f\"],[0.2222222222222222,\"#7201a8\"],[0.3333333333333333,\"#9c179e\"],[0.4444444444444444,\"#bd3786\"],[0.5555555555555556,\"#d8576b\"],[0.6666666666666666,\"#ed7953\"],[0.7777777777777778,\"#fb9f3a\"],[0.8888888888888888,\"#fdca26\"],[1.0,\"#f0f921\"]],\"type\":\"surface\"}],\"table\":[{\"cells\":{\"fill\":{\"color\":\"#EBF0F8\"},\"line\":{\"color\":\"white\"}},\"header\":{\"fill\":{\"color\":\"#C8D4E3\"},\"line\":{\"color\":\"white\"}},\"type\":\"table\"}]},\"layout\":{\"annotationdefaults\":{\"arrowcolor\":\"#2a3f5f\",\"arrowhead\":0,\"arrowwidth\":1},\"autotypenumbers\":\"strict\",\"coloraxis\":{\"colorbar\":{\"outlinewidth\":0,\"ticks\":\"\"}},\"colorscale\":{\"diverging\":[[0,\"#8e0152\"],[0.1,\"#c51b7d\"],[0.2,\"#de77ae\"],[0.3,\"#f1b6da\"],[0.4,\"#fde0ef\"],[0.5,\"#f7f7f7\"],[0.6,\"#e6f5d0\"],[0.7,\"#b8e186\"],[0.8,\"#7fbc41\"],[0.9,\"#4d9221\"],[1,\"#276419\"]],\"sequential\":[[0.0,\"#0d0887\"],[0.1111111111111111,\"#46039f\"],[0.2222222222222222,\"#7201a8\"],[0.3333333333333333,\"#9c179e\"],[0.4444444444444444,\"#bd3786\"],[0.5555555555555556,\"#d8576b\"],[0.6666666666666666,\"#ed7953\"],[0.7777777777777778,\"#fb9f3a\"],[0.8888888888888888,\"#fdca26\"],[1.0,\"#f0f921\"]],\"sequentialminus\":[[0.0,\"#0d0887\"],[0.1111111111111111,\"#46039f\"],[0.2222222222222222,\"#7201a8\"],[0.3333333333333333,\"#9c179e\"],[0.4444444444444444,\"#bd3786\"],[0.5555555555555556,\"#d8576b\"],[0.6666666666666666,\"#ed7953\"],[0.7777777777777778,\"#fb9f3a\"],[0.8888888888888888,\"#fdca26\"],[1.0,\"#f0f921\"]]},\"colorway\":[\"#636efa\",\"#EF553B\",\"#00cc96\",\"#ab63fa\",\"#FFA15A\",\"#19d3f3\",\"#FF6692\",\"#B6E880\",\"#FF97FF\",\"#FECB52\"],\"font\":{\"color\":\"#2a3f5f\"},\"geo\":{\"bgcolor\":\"white\",\"lakecolor\":\"white\",\"landcolor\":\"#E5ECF6\",\"showlakes\":true,\"showland\":true,\"subunitcolor\":\"white\"},\"hoverlabel\":{\"align\":\"left\"},\"hovermode\":\"closest\",\"mapbox\":{\"style\":\"light\"},\"paper_bgcolor\":\"white\",\"plot_bgcolor\":\"#E5ECF6\",\"polar\":{\"angularaxis\":{\"gridcolor\":\"white\",\"linecolor\":\"white\",\"ticks\":\"\"},\"bgcolor\":\"#E5ECF6\",\"radialaxis\":{\"gridcolor\":\"white\",\"linecolor\":\"white\",\"ticks\":\"\"}},\"scene\":{\"xaxis\":{\"backgroundcolor\":\"#E5ECF6\",\"gridcolor\":\"white\",\"gridwidth\":2,\"linecolor\":\"white\",\"showbackground\":true,\"ticks\":\"\",\"zerolinecolor\":\"white\"},\"yaxis\":{\"backgroundcolor\":\"#E5ECF6\",\"gridcolor\":\"white\",\"gridwidth\":2,\"linecolor\":\"white\",\"showbackground\":true,\"ticks\":\"\",\"zerolinecolor\":\"white\"},\"zaxis\":{\"backgroundcolor\":\"#E5ECF6\",\"gridcolor\":\"white\",\"gridwidth\":2,\"linecolor\":\"white\",\"showbackground\":true,\"ticks\":\"\",\"zerolinecolor\":\"white\"}},\"shapedefaults\":{\"line\":{\"color\":\"#2a3f5f\"}},\"ternary\":{\"aaxis\":{\"gridcolor\":\"white\",\"linecolor\":\"white\",\"ticks\":\"\"},\"baxis\":{\"gridcolor\":\"white\",\"linecolor\":\"white\",\"ticks\":\"\"},\"bgcolor\":\"#E5ECF6\",\"caxis\":{\"gridcolor\":\"white\",\"linecolor\":\"white\",\"ticks\":\"\"}},\"title\":{\"x\":0.05},\"xaxis\":{\"automargin\":true,\"gridcolor\":\"white\",\"linecolor\":\"white\",\"ticks\":\"\",\"title\":{\"standoff\":15},\"zerolinecolor\":\"white\",\"zerolinewidth\":2},\"yaxis\":{\"automargin\":true,\"gridcolor\":\"white\",\"linecolor\":\"white\",\"ticks\":\"\",\"title\":{\"standoff\":15},\"zerolinecolor\":\"white\",\"zerolinewidth\":2}}},\"title\":{\"text\":\"Optimization History Plot\"},\"xaxis\":{\"title\":{\"text\":\"#Trials\"}},\"yaxis\":{\"title\":{\"text\":\"Objective Value\"}}},                        {\"responsive\": true}                    ).then(function(){\n",
              "                            \n",
              "var gd = document.getElementById('3c7a01a8-c398-4e1b-9b7a-6129322fd2f7');\n",
              "var x = new MutationObserver(function (mutations, observer) {{\n",
              "        var display = window.getComputedStyle(gd).display;\n",
              "        if (!display || display === 'none') {{\n",
              "            console.log([gd, 'removed!']);\n",
              "            Plotly.purge(gd);\n",
              "            observer.disconnect();\n",
              "        }}\n",
              "}});\n",
              "\n",
              "// Listen for the removal of the full notebook cells\n",
              "var notebookContainer = gd.closest('#notebook-container');\n",
              "if (notebookContainer) {{\n",
              "    x.observe(notebookContainer, {childList: true});\n",
              "}}\n",
              "\n",
              "// Listen for the clearing of the current output cell\n",
              "var outputEl = gd.closest('.output');\n",
              "if (outputEl) {{\n",
              "    x.observe(outputEl, {childList: true});\n",
              "}}\n",
              "\n",
              "                        })                };                            </script>        </div>\n",
              "</body>\n",
              "</html>"
            ]
          },
          "metadata": {},
          "output_type": "display_data"
        }
      ],
      "source": [
        "optuna.visualization.plot_optimization_history(study)"
      ],
      "id": "2dXgv3bPHaF9"
    },
    {
      "cell_type": "code",
      "execution_count": null,
      "metadata": {
        "colab": {
          "base_uri": "https://localhost:8080/"
        },
        "id": "8xHGi-iaEYWu",
        "outputId": "a4e9968e-8fc4-4163-bc07-21bb350888ca"
      },
      "outputs": [
        {
          "name": "stdout",
          "output_type": "stream",
          "text": [
            "0.5812527376259308\n"
          ]
        }
      ],
      "source": [
        "xg_model = XGBClassifier( \n",
        "    iterations= 257,\n",
        "    n_estimators= 196,\n",
        "    num_leaves= 21,\n",
        "    learning_rate= 0.1373372593055826,\n",
        "    reg_lambda= 0.3425390605318015,\n",
        "    feature_fraction= 0.1763991259677553,\n",
        "    bagging_fraction= 0.34290928133157794,\n",
        "    bagging_freq= 10,\n",
        "    min_data_in_leaf= 5,\n",
        "    min_split_gain= 0,\n",
        "    reg_alpha= 0,\n",
        "                                                          )\n",
        "#1.06025346 2.2145116 1.7237214, 0.49379734\n",
        "xg_model.fit(X_train, y_train)\n",
        "\n",
        "#predict on test set\n",
        "test_predictions = xg_model.predict(X_test)\n",
        "\n",
        "print( f1_score(y_test, test_predictions, average= 'micro') )"
      ],
      "id": "8xHGi-iaEYWu"
    },
    {
      "cell_type": "markdown",
      "metadata": {
        "id": "e2e1ce44"
      },
      "source": [
        "# LightGBM"
      ],
      "id": "e2e1ce44"
    },
    {
      "cell_type": "code",
      "execution_count": null,
      "metadata": {
        "id": "i9LhDJHHxFGI"
      },
      "outputs": [],
      "source": [
        "# build the lightgbm model\n",
        "!pip install lightgbm\n",
        "import lightgbm as lgb"
      ],
      "id": "i9LhDJHHxFGI"
    },
    {
      "cell_type": "code",
      "execution_count": null,
      "metadata": {
        "id": "NhVX1FPC9UV6"
      },
      "outputs": [],
      "source": [
        "!pip install optuna\n",
        "import optuna  # pip install optuna\n",
        "from sklearn.metrics import log_loss\n",
        "from sklearn.model_selection import StratifiedKFold\n"
      ],
      "id": "NhVX1FPC9UV6"
    },
    {
      "cell_type": "code",
      "execution_count": null,
      "metadata": {
        "id": "vuK1h7VKRicn"
      },
      "outputs": [],
      "source": [
        "!pip install mljar-supervised\n",
        "from supervised.automl import AutoML"
      ],
      "id": "vuK1h7VKRicn"
    },
    {
      "cell_type": "code",
      "execution_count": null,
      "metadata": {
        "id": "ilTFbO-yPEmQ"
      },
      "outputs": [],
      "source": [
        "# train models with AutoML\n",
        "automl = AutoML(\n",
        "    mode=\"Optuna\",\n",
        "    algorithms=[\"LightGBM\"],\n",
        "    optuna_time_budget=6000, # 10 minutes for tuning \n",
        "    eval_metric=\"f1\"\n",
        ")\n",
        "automl.fit(X_train, y_train)\n",
        "\n",
        "# compute the accuracy on test data\n",
        "predictions = automl.predict_all(X_test)\n",
        "print(predictions.head())\n",
        "#Trial 50 is the best"
      ],
      "id": "ilTFbO-yPEmQ"
    },
    {
      "cell_type": "code",
      "execution_count": null,
      "metadata": {
        "colab": {
          "base_uri": "https://localhost:8080/"
        },
        "id": "UE8li1QCXTV-",
        "outputId": "b627532e-7f56-4a13-9857-eaa145d533db"
      },
      "outputs": [
        {
          "name": "stdout",
          "output_type": "stream",
          "text": [
            "Test accuracy: 0.5809242225142357\n"
          ]
        }
      ],
      "source": [
        "print(\"Test accuracy:\", f1_score(y_test, predictions[\"label\"], average='micro'))"
      ],
      "id": "UE8li1QCXTV-"
    },
    {
      "cell_type": "code",
      "execution_count": null,
      "metadata": {
        "colab": {
          "base_uri": "https://localhost:8080/"
        },
        "id": "TzQzxQeFArCZ",
        "outputId": "34add8d2-27ba-471c-b832-d7c6b6770171"
      },
      "outputs": [
        {
          "name": "stdout",
          "output_type": "stream",
          "text": [
            "F1 Score: 0.5844648853847277\n"
          ]
        }
      ],
      "source": [
        "clf = lgb.LGBMClassifier( )\n",
        "clf.fit(X_train, y_train)\n",
        "# predict the results\n",
        "y_pred=clf.predict(X_test)\n",
        "# view accuracy\n",
        "f1 = f1_score (y_test, y_pred, average='micro')\n",
        "print(\"F1 Score: {}\".format(f1))\n",
        "#F1 Score: 0.5844648853847277"
      ],
      "id": "TzQzxQeFArCZ"
    },
    {
      "cell_type": "code",
      "execution_count": null,
      "metadata": {
        "colab": {
          "base_uri": "https://localhost:8080/"
        },
        "id": "d81ba9d4",
        "outputId": "46a66101-e3a3-4446-c6f3-3057d38b2293"
      },
      "outputs": [
        {
          "name": "stdout",
          "output_type": "stream",
          "text": [
            "F1 Score: 0.586654986129362\n"
          ]
        }
      ],
      "source": [
        "clf = lgb.LGBMClassifier( n_estimators= 198,\n",
        "                          #max_depth = -1,\n",
        "                          #is_unbalance = True,\n",
        "                         #scale_pos_weight = 99,\n",
        "                          learning_rate = 0.05, \n",
        "                          num_leaves = 41,\n",
        "                          #lambda_l1 = 5.66256982759675,  \n",
        "                          #lambda_l2 =0.08290494108198049, \n",
        "                         lambda_l2 =0.0705, \n",
        "                          feature_fraction = 0.6154918829220486, \n",
        "                          bagging_fraction= 0.6096119515891867, \n",
        "                          bagging_freq =1,\n",
        "                          min_data_in_leaf= 4, \n",
        "                          #extra_trees= True,\n",
        "                         min_split_gain =0.0169,\n",
        "                         #colsample_bytree =3,\n",
        "                         #subsample_freq = 100,\n",
        "                         reg_alpha = 0.001,\n",
        "                         #n_jobs=-1 ,\n",
        "                         #min_child_weight=0.01,\n",
        "                        #max_bin = 255,  # Number of bucketed bin for feature values\n",
        "                       #subsample = 0.6,  # Subsample ratio of the training instance.\n",
        "                       #subsample_freq = 0, \n",
        "\n",
        "                         )\n",
        "clf.fit(X_train, y_train)\n",
        "# predict the results\n",
        "y_pred=clf.predict(X_test)\n",
        "# view accuracy\n",
        "f1 = f1_score (y_test, y_pred, average='micro')\n",
        "print(\"F1 Score: {}\".format(f1))"
      ],
      "id": "d81ba9d4"
    },
    {
      "cell_type": "code",
      "execution_count": null,
      "metadata": {
        "id": "EnNOwyjDa0uK"
      },
      "outputs": [],
      "source": [
        "clf_lgb = lgb.LGBMClassifier( n_estimators= 198,\n",
        "                          #max_depth = -1,\n",
        "                          #is_unbalance = True,\n",
        "                         #scale_pos_weight = 99,\n",
        "                          learning_rate = 0.05, \n",
        "                          num_leaves = 41,\n",
        "                          #lambda_l1 = 5.66256982759675,  \n",
        "                          #lambda_l2 =0.08290494108198049, \n",
        "                         lambda_l2 =0.0705, \n",
        "                          feature_fraction = 0.6154918829220486, \n",
        "                          bagging_fraction= 0.6096119515891867, \n",
        "                          bagging_freq =1,\n",
        "                          min_data_in_leaf= 4, \n",
        "                          #extra_trees= True,\n",
        "                         min_split_gain =0.0169,\n",
        "                         #colsample_bytree =3,\n",
        "                         #subsample_freq = 100,\n",
        "                         reg_alpha = 0.001,\n",
        "                         #n_jobs=-1 ,\n",
        "                         #min_child_weight=0.01,\n",
        "                        #max_bin = 255,  # Number of bucketed bin for feature values\n",
        "                       #subsample = 0.6,  # Subsample ratio of the training instance.\n",
        "                       #subsample_freq = 0, \n",
        "\n",
        "                         )"
      ],
      "id": "EnNOwyjDa0uK"
    },
    {
      "cell_type": "code",
      "execution_count": null,
      "metadata": {
        "colab": {
          "base_uri": "https://localhost:8080/"
        },
        "id": "23xcfvgvy0Ty",
        "outputId": "3101dc82-a5c5-41ed-f617-80f51b25ff8a"
      },
      "outputs": [
        {
          "name": "stdout",
          "output_type": "stream",
          "text": [
            "F1 Score: 0.5831873266170244\n"
          ]
        }
      ],
      "source": [
        "clf = lgb.LGBMClassifier(\n",
        "                         #n_jobs=-1 ,\n",
        "                         #min_child_weight=0.01,\n",
        "                        #max_bin = 255,  # Number of bucketed bin for feature values\n",
        "                       #subsample = 0.6,  # Subsample ratio of the training instance.\n",
        "                       #subsample_freq = 0, \n",
        "                       iterations= 413,\n",
        "                        n_estimators= 168,\n",
        "                        num_leaves= 148,\n",
        "                        learning_rate= 0.07481419023974925,\n",
        "                        reg_lambda= 0.6929010406626589,\n",
        "                        feature_fraction= 0.680234490925464,\n",
        "                        bagging_fraction= 0.9986971230650716,\n",
        "                        bagging_freq= 10,\n",
        "                        min_data_in_leaf= 1,\n",
        "                        min_split_gain= 2,\n",
        "                        reg_alpha= 0,\n",
        "\n",
        "                         )\n",
        "clf.fit(X_train, y_train)\n",
        "# predict the results\n",
        "y_pred=clf.predict(X_test)\n",
        "# view accuracy\n",
        "f1 = f1_score (y_test, y_pred, average='micro')\n",
        "print(\"F1 Score: {}\".format(f1))"
      ],
      "id": "23xcfvgvy0Ty"
    },
    {
      "cell_type": "code",
      "execution_count": null,
      "metadata": {
        "id": "lzzLD_77xExg"
      },
      "outputs": [],
      "source": [
        "def objective2(trial):\n",
        "    \n",
        "    params = {'iterations':trial.suggest_int(\"iterations\", 100, 500),\n",
        "              'n_estimators': trial.suggest_int(\"n_estimators\", 50, 200),\n",
        "              'num_leaves':trial.suggest_int('num_leaves', 20, 150),\n",
        "             'loss_function':'MultiClass',\n",
        "              'eval_metric':'TotalF1',\n",
        "              'leaf_estimation_method':'Newton',\n",
        "              'bootstrap_type': 'Bernoulli',\n",
        "              'learning_rate' : trial.suggest_uniform('learning_rate',0.01,0.2),\n",
        "              'lambda_l2': trial.suggest_uniform('reg_lambda',0,1),\n",
        "              'feature_fraction': trial.suggest_uniform('feature_fraction',0,1),\n",
        "              'bagging_fraction': trial.suggest_uniform('bagging_fraction',0,1),\n",
        "              #'subsample': trial.suggest_uniform('subsample',0,1),\n",
        "              #'random_strength': trial.suggest_uniform('random_strength',10,30),\n",
        "              'bagging_freq': trial.suggest_int('bagging_freq',1,10),\n",
        "              'min_data_in_leaf': trial.suggest_int('min_data_in_leaf',1,30),\n",
        "              'min_split_gain': trial.suggest_int('min_split_gain',0,2),\n",
        "              'reg_alpha': trial.suggest_int('reg_alpha',0,0.5),\n",
        "               }\n",
        "    model = lgb.LGBMClassifier(**params)  \n",
        "    model.fit(X_train,y_train,eval_set=[(X_test,y_test)],early_stopping_rounds=100,verbose=False)\n",
        "        \n",
        "    y_preds = model.predict(X_test)\n",
        "\n",
        "\n",
        "    f1 = f1_score(y_test, y_preds, average= 'micro')\n",
        "    \n",
        "    return f1"
      ],
      "id": "lzzLD_77xExg"
    },
    {
      "cell_type": "code",
      "execution_count": null,
      "metadata": {
        "colab": {
          "base_uri": "https://localhost:8080/"
        },
        "id": "jsK8Sa2lx9CY",
        "outputId": "447a7e27-d634-4219-fc9c-1f9065d86719"
      },
      "outputs": [
        {
          "name": "stdout",
          "output_type": "stream",
          "text": [
            "Number of finished trials: 60\n",
            "Best trial:\n",
            "  Value: 0.5859979559059717\n",
            "  Params: \n",
            "    iterations: 398\n",
            "    n_estimators: 186\n",
            "    num_leaves: 30\n",
            "    learning_rate: 0.08331906528946037\n",
            "    reg_lambda: 0.12265076774939243\n",
            "    feature_fraction: 0.8096833413873155\n",
            "    bagging_fraction: 0.8446410633272818\n",
            "    bagging_freq: 10\n",
            "    min_data_in_leaf: 20\n",
            "    min_split_gain: 0\n",
            "    reg_alpha: 0\n"
          ]
        }
      ],
      "source": [
        "if __name__ == \"__main__\":\n",
        "    study = optuna.create_study(direction=\"maximize\")\n",
        "    study.optimize(objective2, n_trials=100, timeout=600)\n",
        "\n",
        "    print(\"Number of finished trials: {}\".format(len(study.trials)))\n",
        "\n",
        "    print(\"Best trial:\")\n",
        "    trial = study.best_trial\n",
        "\n",
        "    print(\"  Value: {}\".format(trial.value))\n",
        "\n",
        "    print(\"  Params: \")\n",
        "    for key, value in trial.params.items():\n",
        "        print(\"    {}: {}\".format(key, value))"
      ],
      "id": "jsK8Sa2lx9CY"
    },
    {
      "cell_type": "code",
      "execution_count": null,
      "metadata": {
        "colab": {
          "base_uri": "https://localhost:8080/",
          "height": 542
        },
        "id": "6vo4xmRIzOj_",
        "outputId": "78cf50aa-2528-40b8-8023-c3a62be55e14"
      },
      "outputs": [
        {
          "data": {
            "text/html": [
              "<html>\n",
              "<head><meta charset=\"utf-8\" /></head>\n",
              "<body>\n",
              "    <div>            <script src=\"https://cdnjs.cloudflare.com/ajax/libs/mathjax/2.7.5/MathJax.js?config=TeX-AMS-MML_SVG\"></script><script type=\"text/javascript\">if (window.MathJax) {MathJax.Hub.Config({SVG: {font: \"STIX-Web\"}});}</script>                <script type=\"text/javascript\">window.PlotlyConfig = {MathJaxConfig: 'local'};</script>\n",
              "        <script src=\"https://cdn.plot.ly/plotly-2.4.2.min.js\"></script>                <div id=\"cb1133e8-4be3-4c80-91af-bbc0db6f0229\" class=\"plotly-graph-div\" style=\"height:525px; width:100%;\"></div>            <script type=\"text/javascript\">                                    window.PLOTLYENV=window.PLOTLYENV || {};                                    if (document.getElementById(\"cb1133e8-4be3-4c80-91af-bbc0db6f0229\")) {                    Plotly.newPlot(                        \"cb1133e8-4be3-4c80-91af-bbc0db6f0229\",                        [{\"mode\":\"markers\",\"name\":\"Objective Value\",\"type\":\"scatter\",\"x\":[0,1,2,3,4,5,6,7,8,9,10,11,12,13,14,15,16,17,18,19,20,21,22,23,24,25,26,27,28,29,30,31,32,33,34,35,36,37,38,39,40,41,42,43,44,45,46,47,48,49,50,51,52,53,54,55,56,57,58,59],\"y\":[0.5642429551759381,0.5794276536720689,0.5474886844794861,0.5004015184698496,0.5098554533508541,0.5689516717769018,0.5518688859687546,0.5667980727113447,0.4996714848883049,0.5681121331581253,0.5850124105708863,0.5845743904219594,0.5849394072127317,0.584501387063805,0.5824937947145569,0.5834428383705651,0.5817272594539349,0.5825302963936341,0.5816542560957804,0.5827493064680975,0.5768725361366623,0.5836253467659512,0.5859979559059717,0.5840998685939554,0.5812162359468536,0.5848664038545773,0.5836253467659512,0.5823842896773251,0.5813257409840853,0.5678931230836618,0.5833698350124106,0.5846838954591911,0.5847568988173456,0.5851584172871952,0.5841728719521098,0.580814717477004,0.5807782157979267,0.5835523434077967,0.5803401956489999,0.5830778215797927,0.5835158417287195,0.5839538618776464,0.5839173601985691,0.5795006570302234,0.5830048182216382,0.5819827712074755,0.5807052124397722,0.5819827712074755,0.5557380639509417,0.5832238282961016,0.5437290115345306,0.584501387063805,0.5847203971382684,0.5833333333333334,0.5835523434077967,0.5829318148634837,0.5846108921010367,0.5849394072127317,0.5826398014308658,0.5827858081471747]},{\"name\":\"Best Value\",\"type\":\"scatter\",\"x\":[0,1,2,3,4,5,6,7,8,9,10,11,12,13,14,15,16,17,18,19,20,21,22,23,24,25,26,27,28,29,30,31,32,33,34,35,36,37,38,39,40,41,42,43,44,45,46,47,48,49,50,51,52,53,54,55,56,57,58,59],\"y\":[0.5642429551759381,0.5794276536720689,0.5794276536720689,0.5794276536720689,0.5794276536720689,0.5794276536720689,0.5794276536720689,0.5794276536720689,0.5794276536720689,0.5794276536720689,0.5850124105708863,0.5850124105708863,0.5850124105708863,0.5850124105708863,0.5850124105708863,0.5850124105708863,0.5850124105708863,0.5850124105708863,0.5850124105708863,0.5850124105708863,0.5850124105708863,0.5850124105708863,0.5859979559059717,0.5859979559059717,0.5859979559059717,0.5859979559059717,0.5859979559059717,0.5859979559059717,0.5859979559059717,0.5859979559059717,0.5859979559059717,0.5859979559059717,0.5859979559059717,0.5859979559059717,0.5859979559059717,0.5859979559059717,0.5859979559059717,0.5859979559059717,0.5859979559059717,0.5859979559059717,0.5859979559059717,0.5859979559059717,0.5859979559059717,0.5859979559059717,0.5859979559059717,0.5859979559059717,0.5859979559059717,0.5859979559059717,0.5859979559059717,0.5859979559059717,0.5859979559059717,0.5859979559059717,0.5859979559059717,0.5859979559059717,0.5859979559059717,0.5859979559059717,0.5859979559059717,0.5859979559059717,0.5859979559059717,0.5859979559059717]}],                        {\"template\":{\"data\":{\"bar\":[{\"error_x\":{\"color\":\"#2a3f5f\"},\"error_y\":{\"color\":\"#2a3f5f\"},\"marker\":{\"line\":{\"color\":\"#E5ECF6\",\"width\":0.5},\"pattern\":{\"fillmode\":\"overlay\",\"size\":10,\"solidity\":0.2}},\"type\":\"bar\"}],\"barpolar\":[{\"marker\":{\"line\":{\"color\":\"#E5ECF6\",\"width\":0.5},\"pattern\":{\"fillmode\":\"overlay\",\"size\":10,\"solidity\":0.2}},\"type\":\"barpolar\"}],\"carpet\":[{\"aaxis\":{\"endlinecolor\":\"#2a3f5f\",\"gridcolor\":\"white\",\"linecolor\":\"white\",\"minorgridcolor\":\"white\",\"startlinecolor\":\"#2a3f5f\"},\"baxis\":{\"endlinecolor\":\"#2a3f5f\",\"gridcolor\":\"white\",\"linecolor\":\"white\",\"minorgridcolor\":\"white\",\"startlinecolor\":\"#2a3f5f\"},\"type\":\"carpet\"}],\"choropleth\":[{\"colorbar\":{\"outlinewidth\":0,\"ticks\":\"\"},\"type\":\"choropleth\"}],\"contour\":[{\"colorbar\":{\"outlinewidth\":0,\"ticks\":\"\"},\"colorscale\":[[0.0,\"#0d0887\"],[0.1111111111111111,\"#46039f\"],[0.2222222222222222,\"#7201a8\"],[0.3333333333333333,\"#9c179e\"],[0.4444444444444444,\"#bd3786\"],[0.5555555555555556,\"#d8576b\"],[0.6666666666666666,\"#ed7953\"],[0.7777777777777778,\"#fb9f3a\"],[0.8888888888888888,\"#fdca26\"],[1.0,\"#f0f921\"]],\"type\":\"contour\"}],\"contourcarpet\":[{\"colorbar\":{\"outlinewidth\":0,\"ticks\":\"\"},\"type\":\"contourcarpet\"}],\"heatmap\":[{\"colorbar\":{\"outlinewidth\":0,\"ticks\":\"\"},\"colorscale\":[[0.0,\"#0d0887\"],[0.1111111111111111,\"#46039f\"],[0.2222222222222222,\"#7201a8\"],[0.3333333333333333,\"#9c179e\"],[0.4444444444444444,\"#bd3786\"],[0.5555555555555556,\"#d8576b\"],[0.6666666666666666,\"#ed7953\"],[0.7777777777777778,\"#fb9f3a\"],[0.8888888888888888,\"#fdca26\"],[1.0,\"#f0f921\"]],\"type\":\"heatmap\"}],\"heatmapgl\":[{\"colorbar\":{\"outlinewidth\":0,\"ticks\":\"\"},\"colorscale\":[[0.0,\"#0d0887\"],[0.1111111111111111,\"#46039f\"],[0.2222222222222222,\"#7201a8\"],[0.3333333333333333,\"#9c179e\"],[0.4444444444444444,\"#bd3786\"],[0.5555555555555556,\"#d8576b\"],[0.6666666666666666,\"#ed7953\"],[0.7777777777777778,\"#fb9f3a\"],[0.8888888888888888,\"#fdca26\"],[1.0,\"#f0f921\"]],\"type\":\"heatmapgl\"}],\"histogram\":[{\"marker\":{\"pattern\":{\"fillmode\":\"overlay\",\"size\":10,\"solidity\":0.2}},\"type\":\"histogram\"}],\"histogram2d\":[{\"colorbar\":{\"outlinewidth\":0,\"ticks\":\"\"},\"colorscale\":[[0.0,\"#0d0887\"],[0.1111111111111111,\"#46039f\"],[0.2222222222222222,\"#7201a8\"],[0.3333333333333333,\"#9c179e\"],[0.4444444444444444,\"#bd3786\"],[0.5555555555555556,\"#d8576b\"],[0.6666666666666666,\"#ed7953\"],[0.7777777777777778,\"#fb9f3a\"],[0.8888888888888888,\"#fdca26\"],[1.0,\"#f0f921\"]],\"type\":\"histogram2d\"}],\"histogram2dcontour\":[{\"colorbar\":{\"outlinewidth\":0,\"ticks\":\"\"},\"colorscale\":[[0.0,\"#0d0887\"],[0.1111111111111111,\"#46039f\"],[0.2222222222222222,\"#7201a8\"],[0.3333333333333333,\"#9c179e\"],[0.4444444444444444,\"#bd3786\"],[0.5555555555555556,\"#d8576b\"],[0.6666666666666666,\"#ed7953\"],[0.7777777777777778,\"#fb9f3a\"],[0.8888888888888888,\"#fdca26\"],[1.0,\"#f0f921\"]],\"type\":\"histogram2dcontour\"}],\"mesh3d\":[{\"colorbar\":{\"outlinewidth\":0,\"ticks\":\"\"},\"type\":\"mesh3d\"}],\"parcoords\":[{\"line\":{\"colorbar\":{\"outlinewidth\":0,\"ticks\":\"\"}},\"type\":\"parcoords\"}],\"pie\":[{\"automargin\":true,\"type\":\"pie\"}],\"scatter\":[{\"marker\":{\"colorbar\":{\"outlinewidth\":0,\"ticks\":\"\"}},\"type\":\"scatter\"}],\"scatter3d\":[{\"line\":{\"colorbar\":{\"outlinewidth\":0,\"ticks\":\"\"}},\"marker\":{\"colorbar\":{\"outlinewidth\":0,\"ticks\":\"\"}},\"type\":\"scatter3d\"}],\"scattercarpet\":[{\"marker\":{\"colorbar\":{\"outlinewidth\":0,\"ticks\":\"\"}},\"type\":\"scattercarpet\"}],\"scattergeo\":[{\"marker\":{\"colorbar\":{\"outlinewidth\":0,\"ticks\":\"\"}},\"type\":\"scattergeo\"}],\"scattergl\":[{\"marker\":{\"colorbar\":{\"outlinewidth\":0,\"ticks\":\"\"}},\"type\":\"scattergl\"}],\"scattermapbox\":[{\"marker\":{\"colorbar\":{\"outlinewidth\":0,\"ticks\":\"\"}},\"type\":\"scattermapbox\"}],\"scatterpolar\":[{\"marker\":{\"colorbar\":{\"outlinewidth\":0,\"ticks\":\"\"}},\"type\":\"scatterpolar\"}],\"scatterpolargl\":[{\"marker\":{\"colorbar\":{\"outlinewidth\":0,\"ticks\":\"\"}},\"type\":\"scatterpolargl\"}],\"scatterternary\":[{\"marker\":{\"colorbar\":{\"outlinewidth\":0,\"ticks\":\"\"}},\"type\":\"scatterternary\"}],\"surface\":[{\"colorbar\":{\"outlinewidth\":0,\"ticks\":\"\"},\"colorscale\":[[0.0,\"#0d0887\"],[0.1111111111111111,\"#46039f\"],[0.2222222222222222,\"#7201a8\"],[0.3333333333333333,\"#9c179e\"],[0.4444444444444444,\"#bd3786\"],[0.5555555555555556,\"#d8576b\"],[0.6666666666666666,\"#ed7953\"],[0.7777777777777778,\"#fb9f3a\"],[0.8888888888888888,\"#fdca26\"],[1.0,\"#f0f921\"]],\"type\":\"surface\"}],\"table\":[{\"cells\":{\"fill\":{\"color\":\"#EBF0F8\"},\"line\":{\"color\":\"white\"}},\"header\":{\"fill\":{\"color\":\"#C8D4E3\"},\"line\":{\"color\":\"white\"}},\"type\":\"table\"}]},\"layout\":{\"annotationdefaults\":{\"arrowcolor\":\"#2a3f5f\",\"arrowhead\":0,\"arrowwidth\":1},\"autotypenumbers\":\"strict\",\"coloraxis\":{\"colorbar\":{\"outlinewidth\":0,\"ticks\":\"\"}},\"colorscale\":{\"diverging\":[[0,\"#8e0152\"],[0.1,\"#c51b7d\"],[0.2,\"#de77ae\"],[0.3,\"#f1b6da\"],[0.4,\"#fde0ef\"],[0.5,\"#f7f7f7\"],[0.6,\"#e6f5d0\"],[0.7,\"#b8e186\"],[0.8,\"#7fbc41\"],[0.9,\"#4d9221\"],[1,\"#276419\"]],\"sequential\":[[0.0,\"#0d0887\"],[0.1111111111111111,\"#46039f\"],[0.2222222222222222,\"#7201a8\"],[0.3333333333333333,\"#9c179e\"],[0.4444444444444444,\"#bd3786\"],[0.5555555555555556,\"#d8576b\"],[0.6666666666666666,\"#ed7953\"],[0.7777777777777778,\"#fb9f3a\"],[0.8888888888888888,\"#fdca26\"],[1.0,\"#f0f921\"]],\"sequentialminus\":[[0.0,\"#0d0887\"],[0.1111111111111111,\"#46039f\"],[0.2222222222222222,\"#7201a8\"],[0.3333333333333333,\"#9c179e\"],[0.4444444444444444,\"#bd3786\"],[0.5555555555555556,\"#d8576b\"],[0.6666666666666666,\"#ed7953\"],[0.7777777777777778,\"#fb9f3a\"],[0.8888888888888888,\"#fdca26\"],[1.0,\"#f0f921\"]]},\"colorway\":[\"#636efa\",\"#EF553B\",\"#00cc96\",\"#ab63fa\",\"#FFA15A\",\"#19d3f3\",\"#FF6692\",\"#B6E880\",\"#FF97FF\",\"#FECB52\"],\"font\":{\"color\":\"#2a3f5f\"},\"geo\":{\"bgcolor\":\"white\",\"lakecolor\":\"white\",\"landcolor\":\"#E5ECF6\",\"showlakes\":true,\"showland\":true,\"subunitcolor\":\"white\"},\"hoverlabel\":{\"align\":\"left\"},\"hovermode\":\"closest\",\"mapbox\":{\"style\":\"light\"},\"paper_bgcolor\":\"white\",\"plot_bgcolor\":\"#E5ECF6\",\"polar\":{\"angularaxis\":{\"gridcolor\":\"white\",\"linecolor\":\"white\",\"ticks\":\"\"},\"bgcolor\":\"#E5ECF6\",\"radialaxis\":{\"gridcolor\":\"white\",\"linecolor\":\"white\",\"ticks\":\"\"}},\"scene\":{\"xaxis\":{\"backgroundcolor\":\"#E5ECF6\",\"gridcolor\":\"white\",\"gridwidth\":2,\"linecolor\":\"white\",\"showbackground\":true,\"ticks\":\"\",\"zerolinecolor\":\"white\"},\"yaxis\":{\"backgroundcolor\":\"#E5ECF6\",\"gridcolor\":\"white\",\"gridwidth\":2,\"linecolor\":\"white\",\"showbackground\":true,\"ticks\":\"\",\"zerolinecolor\":\"white\"},\"zaxis\":{\"backgroundcolor\":\"#E5ECF6\",\"gridcolor\":\"white\",\"gridwidth\":2,\"linecolor\":\"white\",\"showbackground\":true,\"ticks\":\"\",\"zerolinecolor\":\"white\"}},\"shapedefaults\":{\"line\":{\"color\":\"#2a3f5f\"}},\"ternary\":{\"aaxis\":{\"gridcolor\":\"white\",\"linecolor\":\"white\",\"ticks\":\"\"},\"baxis\":{\"gridcolor\":\"white\",\"linecolor\":\"white\",\"ticks\":\"\"},\"bgcolor\":\"#E5ECF6\",\"caxis\":{\"gridcolor\":\"white\",\"linecolor\":\"white\",\"ticks\":\"\"}},\"title\":{\"x\":0.05},\"xaxis\":{\"automargin\":true,\"gridcolor\":\"white\",\"linecolor\":\"white\",\"ticks\":\"\",\"title\":{\"standoff\":15},\"zerolinecolor\":\"white\",\"zerolinewidth\":2},\"yaxis\":{\"automargin\":true,\"gridcolor\":\"white\",\"linecolor\":\"white\",\"ticks\":\"\",\"title\":{\"standoff\":15},\"zerolinecolor\":\"white\",\"zerolinewidth\":2}}},\"title\":{\"text\":\"Optimization History Plot\"},\"xaxis\":{\"title\":{\"text\":\"#Trials\"}},\"yaxis\":{\"title\":{\"text\":\"Objective Value\"}}},                        {\"responsive\": true}                    ).then(function(){\n",
              "                            \n",
              "var gd = document.getElementById('cb1133e8-4be3-4c80-91af-bbc0db6f0229');\n",
              "var x = new MutationObserver(function (mutations, observer) {{\n",
              "        var display = window.getComputedStyle(gd).display;\n",
              "        if (!display || display === 'none') {{\n",
              "            console.log([gd, 'removed!']);\n",
              "            Plotly.purge(gd);\n",
              "            observer.disconnect();\n",
              "        }}\n",
              "}});\n",
              "\n",
              "// Listen for the removal of the full notebook cells\n",
              "var notebookContainer = gd.closest('#notebook-container');\n",
              "if (notebookContainer) {{\n",
              "    x.observe(notebookContainer, {childList: true});\n",
              "}}\n",
              "\n",
              "// Listen for the clearing of the current output cell\n",
              "var outputEl = gd.closest('.output');\n",
              "if (outputEl) {{\n",
              "    x.observe(outputEl, {childList: true});\n",
              "}}\n",
              "\n",
              "                        })                };                            </script>        </div>\n",
              "</body>\n",
              "</html>"
            ]
          },
          "metadata": {},
          "output_type": "display_data"
        }
      ],
      "source": [
        "optuna.visualization.plot_optimization_history(study)"
      ],
      "id": "6vo4xmRIzOj_"
    },
    {
      "cell_type": "markdown",
      "metadata": {
        "id": "Allxa-FKZft1"
      },
      "source": [
        "# Stacked Classifier"
      ],
      "id": "Allxa-FKZft1"
    },
    {
      "cell_type": "code",
      "execution_count": null,
      "metadata": {
        "id": "EE9dianFaQ84"
      },
      "outputs": [],
      "source": [
        "from sklearn.ensemble import StackingClassifier"
      ],
      "id": "EE9dianFaQ84"
    },
    {
      "cell_type": "code",
      "execution_count": null,
      "metadata": {
        "id": "XfLXCFJ2ZjHh"
      },
      "outputs": [],
      "source": [
        "classifiers = [('lgbm', clf_lgb),      \n",
        "               #('xgb', xg_model),\n",
        "                                      \n",
        "               ('cat', cat_model)]"
      ],
      "id": "XfLXCFJ2ZjHh"
    },
    {
      "cell_type": "code",
      "execution_count": null,
      "metadata": {
        "colab": {
          "base_uri": "https://localhost:8080/"
        },
        "id": "DlOXIF_Y6NUx",
        "outputId": "bac3f538-da44-4ce8-9e8d-5a283d8fcb0f"
      },
      "outputs": [
        {
          "name": "stdout",
          "output_type": "stream",
          "text": [
            "Looking in indexes: https://pypi.org/simple, https://us-python.pkg.dev/colab-wheels/public/simple/\n",
            "Requirement already satisfied: sklearn in /usr/local/lib/python3.7/dist-packages (0.0)\n",
            "Requirement already satisfied: scikit-learn in /usr/local/lib/python3.7/dist-packages (from sklearn) (1.0.1)\n",
            "Requirement already satisfied: scipy>=1.1.0 in /usr/local/lib/python3.7/dist-packages (from scikit-learn->sklearn) (1.7.3)\n",
            "Requirement already satisfied: joblib>=0.11 in /usr/local/lib/python3.7/dist-packages (from scikit-learn->sklearn) (1.1.0)\n",
            "Requirement already satisfied: threadpoolctl>=2.0.0 in /usr/local/lib/python3.7/dist-packages (from scikit-learn->sklearn) (3.1.0)\n",
            "Requirement already satisfied: numpy>=1.14.6 in /usr/local/lib/python3.7/dist-packages (from scikit-learn->sklearn) (1.21.6)\n"
          ]
        }
      ],
      "source": [
        "pip install sklearn"
      ],
      "id": "DlOXIF_Y6NUx"
    },
    {
      "cell_type": "code",
      "execution_count": null,
      "metadata": {
        "id": "a9tEsJTM7Ji8"
      },
      "outputs": [],
      "source": [
        "clf_lgb\n",
        "est2 = clf_lgb.fit(X_train, y_train)"
      ],
      "id": "a9tEsJTM7Ji8"
    },
    {
      "cell_type": "code",
      "execution_count": null,
      "metadata": {
        "id": "7sg2gsgW9fAT"
      },
      "outputs": [],
      "source": [
        "#pip install pdpbox\n",
        "import pandas as pd\n",
        "from pdpbox import pdp, get_dataset, info_plots"
      ],
      "id": "7sg2gsgW9fAT"
    },
    {
      "cell_type": "code",
      "execution_count": null,
      "metadata": {
        "id": "nbH7yQvfn2dd"
      },
      "outputs": [],
      "source": [
        "clf3 = StackingClassifier(estimators=classifiers ,\n",
        "                  final_estimator=lgb.LGBMClassifier()\n",
        "                \n",
        "                        )"
      ],
      "id": "nbH7yQvfn2dd"
    },
    {
      "cell_type": "code",
      "execution_count": null,
      "metadata": {
        "id": "AdQP0wYxoScD"
      },
      "outputs": [],
      "source": [
        "clf3.fit(X_train, y_train)\n",
        "# predict the results\n",
        "y_pred=clf3.predict(X_test)\n",
        "# view accuracy\n",
        "f1 = f1_score (y_test, y_pred, average='micro')\n",
        "print(\"F1 Score: {}\".format(f1))"
      ],
      "id": "AdQP0wYxoScD"
    },
    {
      "cell_type": "code",
      "execution_count": null,
      "metadata": {
        "id": "xfL0zCI-Z8Hg"
      },
      "outputs": [],
      "source": [
        "clf = StackingClassifier(estimators=classifiers \n",
        "                  use_probas=True,\n",
        "                          average_probas=False,\n",
        "                          meta_classifier=lr\n",
        "                        )"
      ],
      "id": "xfL0zCI-Z8Hg"
    },
    {
      "cell_type": "code",
      "execution_count": null,
      "metadata": {
        "colab": {
          "background_save": true
        },
        "id": "k9l0EvbsaA2H"
      },
      "outputs": [],
      "source": [
        "clf.fit(X_train, y_train)\n",
        "# predict the results\n",
        "y_pred=clf.predict(X_test)\n",
        "# view accuracy\n",
        "f1 = f1_score (y_test, y_pred, average='micro')\n",
        "print(\"F1 Score: {}\".format(f1))"
      ],
      "id": "k9l0EvbsaA2H"
    },
    {
      "cell_type": "code",
      "execution_count": null,
      "metadata": {
        "id": "ZjktNYaJdWJM"
      },
      "outputs": [],
      "source": [
        "F1 Score: 0.5863994743758213"
      ],
      "id": "ZjktNYaJdWJM"
    },
    {
      "cell_type": "markdown",
      "metadata": {
        "id": "ca8391e2"
      },
      "source": [
        "# Feature Importance"
      ],
      "id": "ca8391e2"
    },
    {
      "cell_type": "code",
      "execution_count": null,
      "metadata": {
        "id": "cf13e415"
      },
      "outputs": [],
      "source": [
        "def plot_feature_importance(importance,names,model_type):\n",
        "    \n",
        "    #Create arrays from feature importance and feature names\n",
        "    feature_importance = np.array(importance)\n",
        "    feature_names = np.array(names)\n",
        "    \n",
        "    #Create a DataFrame using a Dictionary\n",
        "    data={'feature_names':feature_names,'feature_importance':feature_importance}\n",
        "    fi_df = pd.DataFrame(data)\n",
        "    \n",
        "    #Sort the DataFrame in order decreasing feature importance\n",
        "    fi_df.sort_values(by=['feature_importance'], ascending=False,inplace=True)\n",
        "    \n",
        "    #Define size of bar plot\n",
        "    plt.figure(figsize=(10,8))\n",
        "    #Plot Searborn bar chart\n",
        "    sns.barplot(x=fi_df['feature_importance'], y=fi_df['feature_names'])\n",
        "    #Add chart labels\n",
        "    plt.title(model_type + 'FEATURE IMPORTANCE')\n",
        "    plt.xlabel('FEATURE IMPORTANCE')\n",
        "    plt.ylabel('FEATURE NAMES')"
      ],
      "id": "cf13e415"
    },
    {
      "cell_type": "code",
      "execution_count": null,
      "metadata": {
        "colab": {
          "base_uri": "https://localhost:8080/",
          "height": 718
        },
        "id": "4IGMzHvFLMGS",
        "outputId": "0e141f9d-894a-4ab2-93d3-aebaec5597f9"
      },
      "outputs": [
        {
          "data": {
            "image/png": "[encoded data removed]",
            "text/plain": [
              "<Figure size 1000x800 with 1 Axes>"
            ]
          },
          "metadata": {},
          "output_type": "display_data"
        }
      ],
      "source": [
        "#plot the catboost result\n",
        "plot_feature_importance(clf.feature_importances_,X_train.columns,'LIGHTGBM ')"
      ],
      "id": "4IGMzHvFLMGS"
    }
  ],
  "metadata": {
    "accelerator": "GPU",
    "colab": {
      "collapsed_sections": [],
      "name": "Results.ipynb",
      "toc_visible": true,
      "provenance": []
    },
    "kernelspec": {
      "display_name": "Python 3 (ipykernel)",
      "language": "python",
      "name": "python3"
    },
    "language_info": {
      "codemirror_mode": {
        "name": "ipython",
        "version": 3
      },
      "file_extension": ".py",
      "mimetype": "text/x-python",
      "name": "python",
      "nbconvert_exporter": "python",
      "pygments_lexer": "ipython3",
      "version": "3.9.5"
    }
  },
  "nbformat": 4,
  "nbformat_minor": 5
}